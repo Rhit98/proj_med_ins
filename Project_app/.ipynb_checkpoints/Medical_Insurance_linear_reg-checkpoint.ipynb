{
 "cells": [
  {
   "cell_type": "code",
   "execution_count": 1,
   "id": "8a60d0bb",
   "metadata": {},
   "outputs": [],
   "source": [
    "import numpy as np\n",
    "import pandas as pd\n",
    "\n",
    "import matplotlib.pyplot as plt\n",
    "import seaborn as sns\n",
    "\n",
    "# Feature Selection\n",
    "from statsmodels.stats.outliers_influence import variance_inflation_factor\n",
    "\n",
    "# Model Building\n",
    "from sklearn.model_selection import train_test_split\n",
    "from sklearn.linear_model import LinearRegression\n",
    "\n",
    "# Evaluation Metrics\n",
    "from sklearn.metrics import mean_absolute_error, mean_squared_error, r2_score\n",
    "\n",
    "from scipy.stats import zscore"
   ]
  },
  {
   "cell_type": "code",
   "execution_count": null,
   "id": "114f6311",
   "metadata": {},
   "outputs": [],
   "source": []
  },
  {
   "cell_type": "markdown",
   "id": "566d8d2c",
   "metadata": {},
   "source": [
    "# 1. Data Gathering"
   ]
  },
  {
   "cell_type": "code",
   "execution_count": 2,
   "id": "59389005",
   "metadata": {},
   "outputs": [
    {
     "ename": "FileNotFoundError",
     "evalue": "[Errno 2] No such file or directory: 'medical_insurance.csv'",
     "output_type": "error",
     "traceback": [
      "\u001b[1;31m---------------------------------------------------------------------------\u001b[0m",
      "\u001b[1;31mFileNotFoundError\u001b[0m                         Traceback (most recent call last)",
      "\u001b[1;32m~\\AppData\\Local\\Temp\\ipykernel_7940\\2138366917.py\u001b[0m in \u001b[0;36m<module>\u001b[1;34m\u001b[0m\n\u001b[1;32m----> 1\u001b[1;33m \u001b[0mdf\u001b[0m \u001b[1;33m=\u001b[0m \u001b[0mpd\u001b[0m\u001b[1;33m.\u001b[0m\u001b[0mread_csv\u001b[0m\u001b[1;33m(\u001b[0m\u001b[1;34m\"medical_insurance.csv\"\u001b[0m\u001b[1;33m)\u001b[0m\u001b[1;33m\u001b[0m\u001b[1;33m\u001b[0m\u001b[0m\n\u001b[0m\u001b[0;32m      2\u001b[0m \u001b[0mdf\u001b[0m\u001b[1;33m\u001b[0m\u001b[1;33m\u001b[0m\u001b[0m\n",
      "\u001b[1;32m~\\anaconda3\\lib\\site-packages\\pandas\\util\\_decorators.py\u001b[0m in \u001b[0;36mwrapper\u001b[1;34m(*args, **kwargs)\u001b[0m\n\u001b[0;32m    309\u001b[0m                     \u001b[0mstacklevel\u001b[0m\u001b[1;33m=\u001b[0m\u001b[0mstacklevel\u001b[0m\u001b[1;33m,\u001b[0m\u001b[1;33m\u001b[0m\u001b[1;33m\u001b[0m\u001b[0m\n\u001b[0;32m    310\u001b[0m                 )\n\u001b[1;32m--> 311\u001b[1;33m             \u001b[1;32mreturn\u001b[0m \u001b[0mfunc\u001b[0m\u001b[1;33m(\u001b[0m\u001b[1;33m*\u001b[0m\u001b[0margs\u001b[0m\u001b[1;33m,\u001b[0m \u001b[1;33m**\u001b[0m\u001b[0mkwargs\u001b[0m\u001b[1;33m)\u001b[0m\u001b[1;33m\u001b[0m\u001b[1;33m\u001b[0m\u001b[0m\n\u001b[0m\u001b[0;32m    312\u001b[0m \u001b[1;33m\u001b[0m\u001b[0m\n\u001b[0;32m    313\u001b[0m         \u001b[1;32mreturn\u001b[0m \u001b[0mwrapper\u001b[0m\u001b[1;33m\u001b[0m\u001b[1;33m\u001b[0m\u001b[0m\n",
      "\u001b[1;32m~\\anaconda3\\lib\\site-packages\\pandas\\io\\parsers\\readers.py\u001b[0m in \u001b[0;36mread_csv\u001b[1;34m(filepath_or_buffer, sep, delimiter, header, names, index_col, usecols, squeeze, prefix, mangle_dupe_cols, dtype, engine, converters, true_values, false_values, skipinitialspace, skiprows, skipfooter, nrows, na_values, keep_default_na, na_filter, verbose, skip_blank_lines, parse_dates, infer_datetime_format, keep_date_col, date_parser, dayfirst, cache_dates, iterator, chunksize, compression, thousands, decimal, lineterminator, quotechar, quoting, doublequote, escapechar, comment, encoding, encoding_errors, dialect, error_bad_lines, warn_bad_lines, on_bad_lines, delim_whitespace, low_memory, memory_map, float_precision, storage_options)\u001b[0m\n\u001b[0;32m    676\u001b[0m     \u001b[0mkwds\u001b[0m\u001b[1;33m.\u001b[0m\u001b[0mupdate\u001b[0m\u001b[1;33m(\u001b[0m\u001b[0mkwds_defaults\u001b[0m\u001b[1;33m)\u001b[0m\u001b[1;33m\u001b[0m\u001b[1;33m\u001b[0m\u001b[0m\n\u001b[0;32m    677\u001b[0m \u001b[1;33m\u001b[0m\u001b[0m\n\u001b[1;32m--> 678\u001b[1;33m     \u001b[1;32mreturn\u001b[0m \u001b[0m_read\u001b[0m\u001b[1;33m(\u001b[0m\u001b[0mfilepath_or_buffer\u001b[0m\u001b[1;33m,\u001b[0m \u001b[0mkwds\u001b[0m\u001b[1;33m)\u001b[0m\u001b[1;33m\u001b[0m\u001b[1;33m\u001b[0m\u001b[0m\n\u001b[0m\u001b[0;32m    679\u001b[0m \u001b[1;33m\u001b[0m\u001b[0m\n\u001b[0;32m    680\u001b[0m \u001b[1;33m\u001b[0m\u001b[0m\n",
      "\u001b[1;32m~\\anaconda3\\lib\\site-packages\\pandas\\io\\parsers\\readers.py\u001b[0m in \u001b[0;36m_read\u001b[1;34m(filepath_or_buffer, kwds)\u001b[0m\n\u001b[0;32m    573\u001b[0m \u001b[1;33m\u001b[0m\u001b[0m\n\u001b[0;32m    574\u001b[0m     \u001b[1;31m# Create the parser.\u001b[0m\u001b[1;33m\u001b[0m\u001b[1;33m\u001b[0m\u001b[0m\n\u001b[1;32m--> 575\u001b[1;33m     \u001b[0mparser\u001b[0m \u001b[1;33m=\u001b[0m \u001b[0mTextFileReader\u001b[0m\u001b[1;33m(\u001b[0m\u001b[0mfilepath_or_buffer\u001b[0m\u001b[1;33m,\u001b[0m \u001b[1;33m**\u001b[0m\u001b[0mkwds\u001b[0m\u001b[1;33m)\u001b[0m\u001b[1;33m\u001b[0m\u001b[1;33m\u001b[0m\u001b[0m\n\u001b[0m\u001b[0;32m    576\u001b[0m \u001b[1;33m\u001b[0m\u001b[0m\n\u001b[0;32m    577\u001b[0m     \u001b[1;32mif\u001b[0m \u001b[0mchunksize\u001b[0m \u001b[1;32mor\u001b[0m \u001b[0miterator\u001b[0m\u001b[1;33m:\u001b[0m\u001b[1;33m\u001b[0m\u001b[1;33m\u001b[0m\u001b[0m\n",
      "\u001b[1;32m~\\anaconda3\\lib\\site-packages\\pandas\\io\\parsers\\readers.py\u001b[0m in \u001b[0;36m__init__\u001b[1;34m(self, f, engine, **kwds)\u001b[0m\n\u001b[0;32m    930\u001b[0m \u001b[1;33m\u001b[0m\u001b[0m\n\u001b[0;32m    931\u001b[0m         \u001b[0mself\u001b[0m\u001b[1;33m.\u001b[0m\u001b[0mhandles\u001b[0m\u001b[1;33m:\u001b[0m \u001b[0mIOHandles\u001b[0m \u001b[1;33m|\u001b[0m \u001b[1;32mNone\u001b[0m \u001b[1;33m=\u001b[0m \u001b[1;32mNone\u001b[0m\u001b[1;33m\u001b[0m\u001b[1;33m\u001b[0m\u001b[0m\n\u001b[1;32m--> 932\u001b[1;33m         \u001b[0mself\u001b[0m\u001b[1;33m.\u001b[0m\u001b[0m_engine\u001b[0m \u001b[1;33m=\u001b[0m \u001b[0mself\u001b[0m\u001b[1;33m.\u001b[0m\u001b[0m_make_engine\u001b[0m\u001b[1;33m(\u001b[0m\u001b[0mf\u001b[0m\u001b[1;33m,\u001b[0m \u001b[0mself\u001b[0m\u001b[1;33m.\u001b[0m\u001b[0mengine\u001b[0m\u001b[1;33m)\u001b[0m\u001b[1;33m\u001b[0m\u001b[1;33m\u001b[0m\u001b[0m\n\u001b[0m\u001b[0;32m    933\u001b[0m \u001b[1;33m\u001b[0m\u001b[0m\n\u001b[0;32m    934\u001b[0m     \u001b[1;32mdef\u001b[0m \u001b[0mclose\u001b[0m\u001b[1;33m(\u001b[0m\u001b[0mself\u001b[0m\u001b[1;33m)\u001b[0m\u001b[1;33m:\u001b[0m\u001b[1;33m\u001b[0m\u001b[1;33m\u001b[0m\u001b[0m\n",
      "\u001b[1;32m~\\anaconda3\\lib\\site-packages\\pandas\\io\\parsers\\readers.py\u001b[0m in \u001b[0;36m_make_engine\u001b[1;34m(self, f, engine)\u001b[0m\n\u001b[0;32m   1214\u001b[0m             \u001b[1;31m# \"Union[str, PathLike[str], ReadCsvBuffer[bytes], ReadCsvBuffer[str]]\"\u001b[0m\u001b[1;33m\u001b[0m\u001b[1;33m\u001b[0m\u001b[0m\n\u001b[0;32m   1215\u001b[0m             \u001b[1;31m# , \"str\", \"bool\", \"Any\", \"Any\", \"Any\", \"Any\", \"Any\"\u001b[0m\u001b[1;33m\u001b[0m\u001b[1;33m\u001b[0m\u001b[0m\n\u001b[1;32m-> 1216\u001b[1;33m             self.handles = get_handle(  # type: ignore[call-overload]\n\u001b[0m\u001b[0;32m   1217\u001b[0m                 \u001b[0mf\u001b[0m\u001b[1;33m,\u001b[0m\u001b[1;33m\u001b[0m\u001b[1;33m\u001b[0m\u001b[0m\n\u001b[0;32m   1218\u001b[0m                 \u001b[0mmode\u001b[0m\u001b[1;33m,\u001b[0m\u001b[1;33m\u001b[0m\u001b[1;33m\u001b[0m\u001b[0m\n",
      "\u001b[1;32m~\\anaconda3\\lib\\site-packages\\pandas\\io\\common.py\u001b[0m in \u001b[0;36mget_handle\u001b[1;34m(path_or_buf, mode, encoding, compression, memory_map, is_text, errors, storage_options)\u001b[0m\n\u001b[0;32m    784\u001b[0m         \u001b[1;32mif\u001b[0m \u001b[0mioargs\u001b[0m\u001b[1;33m.\u001b[0m\u001b[0mencoding\u001b[0m \u001b[1;32mand\u001b[0m \u001b[1;34m\"b\"\u001b[0m \u001b[1;32mnot\u001b[0m \u001b[1;32min\u001b[0m \u001b[0mioargs\u001b[0m\u001b[1;33m.\u001b[0m\u001b[0mmode\u001b[0m\u001b[1;33m:\u001b[0m\u001b[1;33m\u001b[0m\u001b[1;33m\u001b[0m\u001b[0m\n\u001b[0;32m    785\u001b[0m             \u001b[1;31m# Encoding\u001b[0m\u001b[1;33m\u001b[0m\u001b[1;33m\u001b[0m\u001b[0m\n\u001b[1;32m--> 786\u001b[1;33m             handle = open(\n\u001b[0m\u001b[0;32m    787\u001b[0m                 \u001b[0mhandle\u001b[0m\u001b[1;33m,\u001b[0m\u001b[1;33m\u001b[0m\u001b[1;33m\u001b[0m\u001b[0m\n\u001b[0;32m    788\u001b[0m                 \u001b[0mioargs\u001b[0m\u001b[1;33m.\u001b[0m\u001b[0mmode\u001b[0m\u001b[1;33m,\u001b[0m\u001b[1;33m\u001b[0m\u001b[1;33m\u001b[0m\u001b[0m\n",
      "\u001b[1;31mFileNotFoundError\u001b[0m: [Errno 2] No such file or directory: 'medical_insurance.csv'"
     ]
    }
   ],
   "source": [
    "df = pd.read_csv(\"medical_insurance.csv\")\n",
    "df"
   ]
  },
  {
   "cell_type": "markdown",
   "id": "ac61e0ca",
   "metadata": {},
   "source": [
    "# 2. Explioratorty Data Analysis and Feature Engg"
   ]
  },
  {
   "cell_type": "markdown",
   "id": "42cdca77",
   "metadata": {},
   "source": [
    "## 1. Age"
   ]
  },
  {
   "cell_type": "code",
   "execution_count": null,
   "id": "9dd36f5f",
   "metadata": {},
   "outputs": [],
   "source": [
    "df[\"age\"]"
   ]
  },
  {
   "cell_type": "code",
   "execution_count": null,
   "id": "cc65d51e",
   "metadata": {},
   "outputs": [],
   "source": [
    "df[\"age\"].info()"
   ]
  },
  {
   "cell_type": "code",
   "execution_count": null,
   "id": "67995109",
   "metadata": {},
   "outputs": [],
   "source": [
    "df[\"age\"].value_counts()"
   ]
  },
  {
   "cell_type": "markdown",
   "id": "ad2c3f0d",
   "metadata": {},
   "source": [
    "### Detecting Outliers"
   ]
  },
  {
   "cell_type": "code",
   "execution_count": null,
   "id": "f48a28e8",
   "metadata": {},
   "outputs": [],
   "source": [
    "sns.boxplot(df[\"age\"])"
   ]
  },
  {
   "cell_type": "code",
   "execution_count": null,
   "id": "96998ba5",
   "metadata": {},
   "outputs": [],
   "source": [
    "# No OUtliers."
   ]
  },
  {
   "cell_type": "code",
   "execution_count": null,
   "id": "62491be5",
   "metadata": {},
   "outputs": [],
   "source": [
    "df.info()"
   ]
  },
  {
   "cell_type": "markdown",
   "id": "2102a05e",
   "metadata": {},
   "source": [
    "## 2. sex"
   ]
  },
  {
   "cell_type": "code",
   "execution_count": null,
   "id": "73c7e638",
   "metadata": {},
   "outputs": [],
   "source": [
    "df[\"sex\"].value_counts()"
   ]
  },
  {
   "cell_type": "code",
   "execution_count": null,
   "id": "17c23ee2",
   "metadata": {},
   "outputs": [],
   "source": [
    "df[\"sex\"].replace({\"male\": 1, \"female\": 0}, inplace = True)\n",
    "df"
   ]
  },
  {
   "cell_type": "code",
   "execution_count": null,
   "id": "f3bae83a",
   "metadata": {},
   "outputs": [],
   "source": [
    "df[\"sex\"].isna().sum()"
   ]
  },
  {
   "cell_type": "code",
   "execution_count": null,
   "id": "279e56a9",
   "metadata": {},
   "outputs": [],
   "source": [
    "df.info()"
   ]
  },
  {
   "cell_type": "markdown",
   "id": "dd3f1f08",
   "metadata": {},
   "source": [
    "## 3. bmi"
   ]
  },
  {
   "cell_type": "code",
   "execution_count": null,
   "id": "c7c1a552",
   "metadata": {},
   "outputs": [],
   "source": [
    "df[\"bmi\"].isna().sum()"
   ]
  },
  {
   "cell_type": "code",
   "execution_count": null,
   "id": "518a5b90",
   "metadata": {},
   "outputs": [],
   "source": [
    "# No null values"
   ]
  },
  {
   "cell_type": "code",
   "execution_count": null,
   "id": "113339af",
   "metadata": {},
   "outputs": [],
   "source": [
    "sns.boxplot(df[\"bmi\"])"
   ]
  },
  {
   "cell_type": "code",
   "execution_count": null,
   "id": "c81be361",
   "metadata": {},
   "outputs": [],
   "source": [
    "# Outliers Detected\n",
    "# Outliers are only in the upper tail\n",
    "# Getting the outliers"
   ]
  },
  {
   "cell_type": "code",
   "execution_count": null,
   "id": "fbe13a3a",
   "metadata": {},
   "outputs": [],
   "source": [
    "q1 = df['bmi'].quantile(0.25)\n",
    "q2 = df['bmi'].quantile(0.50)\n",
    "q3 = df['bmi'].quantile(0.75)\n",
    "median = df['bmi'].median()\n",
    "\n",
    "iqr = q3 - q1\n",
    "\n",
    "upper_tail = q3 + 1.5 * iqr\n",
    "lower_tail = q1 - 1.5 * iqr\n",
    "\n",
    "print(\"Q1 :\", q1)\n",
    "print(\"Q2 :\", q2)\n",
    "print(\"Q3 :\", q3)\n",
    "print(\"Median :\",median)\n",
    "\n",
    "print(\"upper_tail :\", upper_tail)\n",
    "print(\"lower_tail :\", lower_tail)"
   ]
  },
  {
   "cell_type": "code",
   "execution_count": null,
   "id": "174eadb8",
   "metadata": {},
   "outputs": [],
   "source": [
    "df[\"bmi\"].loc[df[\"bmi\"] > upper_tail]"
   ]
  },
  {
   "cell_type": "code",
   "execution_count": null,
   "id": "c4c6972f",
   "metadata": {},
   "outputs": [],
   "source": [
    "# Handling the outliers by tranformation"
   ]
  },
  {
   "cell_type": "code",
   "execution_count": null,
   "id": "0910466f",
   "metadata": {},
   "outputs": [],
   "source": [
    "# Log Tranformation"
   ]
  },
  {
   "cell_type": "code",
   "execution_count": null,
   "id": "7d0ea507",
   "metadata": {},
   "outputs": [],
   "source": [
    "sns.boxplot(np.log(df[\"bmi\"]))"
   ]
  },
  {
   "cell_type": "code",
   "execution_count": null,
   "id": "c158cd0f",
   "metadata": {},
   "outputs": [],
   "source": []
  },
  {
   "cell_type": "code",
   "execution_count": null,
   "id": "f05d9a1e",
   "metadata": {},
   "outputs": [],
   "source": [
    "# Sqrt tranformation"
   ]
  },
  {
   "cell_type": "code",
   "execution_count": null,
   "id": "c8b88363",
   "metadata": {},
   "outputs": [],
   "source": [
    "sns.boxplot(np.sqrt(df[\"bmi\"]))"
   ]
  },
  {
   "cell_type": "code",
   "execution_count": null,
   "id": "2ab2f832",
   "metadata": {},
   "outputs": [],
   "source": [
    "# cube root tranformation"
   ]
  },
  {
   "cell_type": "code",
   "execution_count": null,
   "id": "3f1c2549",
   "metadata": {},
   "outputs": [],
   "source": [
    "sns.boxplot(np.cbrt(df[\"bmi\"]))"
   ]
  },
  {
   "cell_type": "code",
   "execution_count": null,
   "id": "9f135a5a",
   "metadata": {},
   "outputs": [],
   "source": [
    "# reciprocal"
   ]
  },
  {
   "cell_type": "code",
   "execution_count": null,
   "id": "5d1e95b1",
   "metadata": {},
   "outputs": [],
   "source": [
    "sns.boxplot(1/(df[\"bmi\"]))"
   ]
  },
  {
   "cell_type": "code",
   "execution_count": null,
   "id": "72601075",
   "metadata": {},
   "outputs": [],
   "source": [
    "# standardization"
   ]
  },
  {
   "cell_type": "code",
   "execution_count": null,
   "id": "1d103198",
   "metadata": {},
   "outputs": [],
   "source": [
    "z_score_values = zscore(df['bmi'])\n",
    "z_score_values"
   ]
  },
  {
   "cell_type": "code",
   "execution_count": null,
   "id": "89b23cad",
   "metadata": {},
   "outputs": [],
   "source": [
    "sns.boxplot(z_score_values)"
   ]
  },
  {
   "cell_type": "code",
   "execution_count": null,
   "id": "e5f2e706",
   "metadata": {},
   "outputs": [],
   "source": [
    "# Normlization"
   ]
  },
  {
   "cell_type": "code",
   "execution_count": null,
   "id": "4886d08a",
   "metadata": {},
   "outputs": [],
   "source": [
    "min_value = np.min(df['bmi'])\n",
    "max_value = np.max(df['bmi'])"
   ]
  },
  {
   "cell_type": "code",
   "execution_count": null,
   "id": "bdfe0876",
   "metadata": {},
   "outputs": [],
   "source": [
    "normalized_list = []\n",
    "\n",
    "for i in df['bmi']:\n",
    "    normalized_value = (i- min_value)/(max_value - min_value)\n",
    "    normalized_list.append(normalized_value)\n",
    "    \n",
    "normalized_list"
   ]
  },
  {
   "cell_type": "code",
   "execution_count": null,
   "id": "08520388",
   "metadata": {},
   "outputs": [],
   "source": [
    "sns.boxplot(normalized_list)"
   ]
  },
  {
   "cell_type": "code",
   "execution_count": null,
   "id": "a625ae96",
   "metadata": {},
   "outputs": [],
   "source": [
    "# Lowest outliers are there in SQrt and Cbrt tranformation\n",
    "# we will find the lowest of both"
   ]
  },
  {
   "cell_type": "code",
   "execution_count": null,
   "id": "01c646cc",
   "metadata": {},
   "outputs": [],
   "source": [
    "# 1. Sqrt"
   ]
  },
  {
   "cell_type": "code",
   "execution_count": null,
   "id": "b741efb8",
   "metadata": {},
   "outputs": [],
   "source": [
    "q1 = np.sqrt(df['bmi']).quantile(0.25)\n",
    "q2 = np.sqrt(df['bmi']).quantile(0.50)\n",
    "q3 = np.sqrt(df['bmi']).quantile(0.75)\n",
    "median = np.sqrt(df['bmi']).median()\n",
    "\n",
    "iqr = q3 - q1\n",
    "\n",
    "upper_tail = q3 + 1.5 * iqr\n",
    "lower_tail = q1 - 1.5 * iqr\n",
    "\n",
    "print(\"Q1 :\", q1)\n",
    "print(\"Q2 :\", q2)\n",
    "print(\"Q3 :\", q3)\n",
    "print(\"Median :\",median)\n",
    "\n",
    "print(\"upper_tail :\", upper_tail)\n",
    "print(\"lower_tail :\", lower_tail)"
   ]
  },
  {
   "cell_type": "code",
   "execution_count": null,
   "id": "b4da1f0b",
   "metadata": {},
   "outputs": [],
   "source": [
    "np.sqrt(df['bmi']).loc[np.sqrt(df['bmi']) > upper_tail]"
   ]
  },
  {
   "cell_type": "code",
   "execution_count": null,
   "id": "60b63cab",
   "metadata": {},
   "outputs": [],
   "source": []
  },
  {
   "cell_type": "code",
   "execution_count": null,
   "id": "4f66b44f",
   "metadata": {},
   "outputs": [],
   "source": [
    "# So we will do Sqrt tranformation\n",
    "# "
   ]
  },
  {
   "cell_type": "code",
   "execution_count": null,
   "id": "1b644f39",
   "metadata": {},
   "outputs": [],
   "source": [
    "df[\"bmi\"] = np.sqrt(df['bmi'])\n",
    "df"
   ]
  },
  {
   "cell_type": "code",
   "execution_count": null,
   "id": "15b6997a",
   "metadata": {},
   "outputs": [],
   "source": [
    "# now the remaining 3 outliers will be replaced by mean()."
   ]
  },
  {
   "cell_type": "code",
   "execution_count": null,
   "id": "45951496",
   "metadata": {},
   "outputs": [],
   "source": [
    "df['bmi'].loc[df['bmi'] > upper_tail] = df['bmi'].mean()"
   ]
  },
  {
   "cell_type": "code",
   "execution_count": null,
   "id": "1244326c",
   "metadata": {},
   "outputs": [],
   "source": [
    "# Now checking for Outliers"
   ]
  },
  {
   "cell_type": "code",
   "execution_count": null,
   "id": "6555bc63",
   "metadata": {},
   "outputs": [],
   "source": [
    "sns.boxplot(df[\"bmi\"])"
   ]
  },
  {
   "cell_type": "code",
   "execution_count": null,
   "id": "c79a3662",
   "metadata": {},
   "outputs": [],
   "source": [
    "# Only one outlier but not that signifcant as compared to size of data"
   ]
  },
  {
   "cell_type": "code",
   "execution_count": null,
   "id": "a0df96f5",
   "metadata": {},
   "outputs": [],
   "source": [
    "df.info()"
   ]
  },
  {
   "cell_type": "markdown",
   "id": "64fec0b4",
   "metadata": {},
   "source": [
    "## 4. children"
   ]
  },
  {
   "cell_type": "code",
   "execution_count": null,
   "id": "05225678",
   "metadata": {},
   "outputs": [],
   "source": [
    "df[\"children\"].value_counts()"
   ]
  },
  {
   "cell_type": "code",
   "execution_count": null,
   "id": "303b417b",
   "metadata": {},
   "outputs": [],
   "source": [
    "df[\"children\"].isna().sum()"
   ]
  },
  {
   "cell_type": "markdown",
   "id": "9cdd6c6d",
   "metadata": {},
   "source": [
    "## 5. smoker"
   ]
  },
  {
   "cell_type": "code",
   "execution_count": null,
   "id": "f53499e4",
   "metadata": {},
   "outputs": [],
   "source": [
    "df[\"smoker\"].value_counts()"
   ]
  },
  {
   "cell_type": "code",
   "execution_count": null,
   "id": "28fe847a",
   "metadata": {},
   "outputs": [],
   "source": [
    "df[\"smoker\"].isna().sum()"
   ]
  },
  {
   "cell_type": "code",
   "execution_count": null,
   "id": "01cd30ce",
   "metadata": {},
   "outputs": [],
   "source": [
    "df[\"smoker\"].replace({\"yes\": 1 , \"no\" : 0}, inplace = True)\n",
    "df"
   ]
  },
  {
   "cell_type": "code",
   "execution_count": null,
   "id": "afd6a735",
   "metadata": {},
   "outputs": [],
   "source": [
    "df.info()"
   ]
  },
  {
   "cell_type": "markdown",
   "id": "51f25da6",
   "metadata": {},
   "source": [
    "## 6. region"
   ]
  },
  {
   "cell_type": "code",
   "execution_count": null,
   "id": "288e84cd",
   "metadata": {},
   "outputs": [],
   "source": [
    "df[\"region\"].value_counts()"
   ]
  },
  {
   "cell_type": "code",
   "execution_count": null,
   "id": "4f66b590",
   "metadata": {},
   "outputs": [],
   "source": []
  },
  {
   "cell_type": "code",
   "execution_count": null,
   "id": "b40bc61f",
   "metadata": {},
   "outputs": [],
   "source": [
    "df = pd.get_dummies(df, columns=['region'])\n",
    "df"
   ]
  },
  {
   "cell_type": "code",
   "execution_count": null,
   "id": "adf61931",
   "metadata": {},
   "outputs": [],
   "source": [
    "df.info()"
   ]
  },
  {
   "cell_type": "markdown",
   "id": "cf0b771d",
   "metadata": {},
   "source": [
    "## Checking the Target column"
   ]
  },
  {
   "cell_type": "markdown",
   "id": "f3ff31ad",
   "metadata": {},
   "source": [
    "## Charges "
   ]
  },
  {
   "cell_type": "code",
   "execution_count": null,
   "id": "18736eff",
   "metadata": {},
   "outputs": [],
   "source": [
    "df[\"charges\"].isna().sum()"
   ]
  },
  {
   "cell_type": "code",
   "execution_count": null,
   "id": "9f8b9c1d",
   "metadata": {},
   "outputs": [],
   "source": [
    "# Now whole data is numeric are ready of linear alogorithms"
   ]
  },
  {
   "cell_type": "markdown",
   "id": "7ff14abe",
   "metadata": {},
   "source": [
    "# 3. Feature Selection"
   ]
  },
  {
   "cell_type": "markdown",
   "id": "937bece4",
   "metadata": {},
   "source": [
    "## Checking the assumptions"
   ]
  },
  {
   "cell_type": "markdown",
   "id": "cc8c0293",
   "metadata": {},
   "source": [
    "### 1. Linearity "
   ]
  },
  {
   "cell_type": "code",
   "execution_count": null,
   "id": "d2d1ee45",
   "metadata": {},
   "outputs": [],
   "source": [
    "corr = df.corr()\n",
    "corr"
   ]
  },
  {
   "cell_type": "code",
   "execution_count": null,
   "id": "9f7a6602",
   "metadata": {},
   "outputs": [],
   "source": [
    "sns.heatmap(corr[[\"charges\"]], annot = True)"
   ]
  },
  {
   "cell_type": "code",
   "execution_count": null,
   "id": "c40aa956",
   "metadata": {},
   "outputs": [],
   "source": [
    "# Conclusion"
   ]
  },
  {
   "cell_type": "markdown",
   "id": "d1a53b71",
   "metadata": {},
   "source": [
    "### 2. No Multi Colinearity "
   ]
  },
  {
   "cell_type": "code",
   "execution_count": null,
   "id": "be3a21d0",
   "metadata": {},
   "outputs": [],
   "source": [
    "vif_list = []\n",
    "\n",
    "for i in range(df.shape[1]):\n",
    "    vif = variance_inflation_factor(df.to_numpy(),i)\n",
    "    vif_list.append(vif)\n",
    "    \n",
    "s1 = pd.Series(vif_list, index=df.columns)\n",
    "s1.sort_values().plot(kind = 'barh')"
   ]
  },
  {
   "cell_type": "code",
   "execution_count": null,
   "id": "a690812f",
   "metadata": {},
   "outputs": [],
   "source": [
    "# Vif values are less than 5 for each feature\n",
    "# We can see that all the features are not multi colinear"
   ]
  },
  {
   "cell_type": "code",
   "execution_count": null,
   "id": "a01027ed",
   "metadata": {},
   "outputs": [],
   "source": []
  },
  {
   "cell_type": "markdown",
   "id": "72dc2c6c",
   "metadata": {},
   "source": [
    "# 4 Model Building"
   ]
  },
  {
   "cell_type": "code",
   "execution_count": null,
   "id": "e8771e23",
   "metadata": {},
   "outputs": [],
   "source": [
    "# Splitting the data"
   ]
  },
  {
   "cell_type": "code",
   "execution_count": null,
   "id": "3ebd9e4b",
   "metadata": {},
   "outputs": [],
   "source": [
    "x = df.drop(\"charges\", axis = 1) \n",
    "x"
   ]
  },
  {
   "cell_type": "code",
   "execution_count": null,
   "id": "9a35c630",
   "metadata": {},
   "outputs": [],
   "source": [
    "y = df[\"charges\"]\n",
    "y"
   ]
  },
  {
   "cell_type": "code",
   "execution_count": null,
   "id": "dc4fc97b",
   "metadata": {},
   "outputs": [],
   "source": [
    "x_train, x_test, y_train, y_test = train_test_split(x,y, test_size=.2 ,random_state=48)\n",
    "x_train\n"
   ]
  },
  {
   "cell_type": "code",
   "execution_count": null,
   "id": "9383891b",
   "metadata": {},
   "outputs": [],
   "source": [
    "x_test"
   ]
  },
  {
   "cell_type": "code",
   "execution_count": null,
   "id": "f6fe5a7c",
   "metadata": {},
   "outputs": [],
   "source": [
    "display(y_train,y_test)"
   ]
  },
  {
   "cell_type": "code",
   "execution_count": null,
   "id": "e41b70d0",
   "metadata": {},
   "outputs": [],
   "source": [
    "Lin_model = LinearRegression()"
   ]
  },
  {
   "cell_type": "code",
   "execution_count": null,
   "id": "659a22ae",
   "metadata": {},
   "outputs": [],
   "source": [
    "Lin_model.fit(x_train,y_train)"
   ]
  },
  {
   "cell_type": "markdown",
   "id": "0e2ab8a2",
   "metadata": {},
   "source": [
    "# Model Evaluation"
   ]
  },
  {
   "cell_type": "code",
   "execution_count": null,
   "id": "61fee688",
   "metadata": {},
   "outputs": [],
   "source": [
    "# Testing\n",
    "\n",
    "y_pred = Lin_model.predict(x_test)\n",
    "\n",
    "mse = mean_squared_error(y_test, y_pred)\n",
    "print(\"Mean Sqaured Error :\",mse)\n",
    "\n",
    "rmse = np.sqrt(mse)\n",
    "print(\"Root Mean Sqaured Error :\",rmse)\n",
    "\n",
    "mae = mean_absolute_error(y_test, y_pred)\n",
    "print(\"Mean Absolute Error :\",mae)\n",
    "\n",
    "r_squared_value = r2_score(y_test, y_pred)\n",
    "print(\"R Squared Value :\",r_squared_value)\n",
    "\n",
    "r2 =  Lin_model.score(x_test, y_test)\n",
    "print(\"Direct R Squared Value :\",r2)\n",
    "\n",
    "adj_r2  = 1 - (((1 - r_squared_value) * (x_test.shape[0] - 1)) / (x_test.shape[0] - x_test.shape[1] - 1))\n",
    "print(\"Adjusted R Squared Value :\",adj_r2)"
   ]
  },
  {
   "cell_type": "code",
   "execution_count": null,
   "id": "7851430d",
   "metadata": {},
   "outputs": [],
   "source": [
    "# Model Evaluation for Training Data\n",
    "\n",
    "y_pred_train = Lin_model.predict(x_train)\n",
    "\n",
    "mse = mean_squared_error(y_train, y_pred_train)\n",
    "print(\"Mean Sqaured Error :\",mse)\n",
    "\n",
    "rmse = np.sqrt(mse)\n",
    "print(\"Root Mean Sqaured Error :\",rmse)\n",
    "\n",
    "mae = mean_absolute_error(y_train, y_pred_train)\n",
    "print(\"Mean Absolute Error :\",mae)\n",
    "\n",
    "r_squared_value = r2_score(y_train, y_pred_train)\n",
    "print(\"R Squared Value :\",r_squared_value)\n",
    "\n",
    "# Direct calculation\n",
    "r2 = Lin_model.score(x_train, y_train)\n",
    "print(\"Direct R Squared Value :\",r2)\n",
    "\n",
    "adj_r2  = 1 - (((1 - r_squared_value) * (x_train.shape[0] - 1)) / (x_train.shape[0] - x_train.shape[1] - 1))\n",
    "print(\"Adjusted R Squared Value :\",adj_r2)"
   ]
  },
  {
   "cell_type": "code",
   "execution_count": null,
   "id": "af7cd444",
   "metadata": {},
   "outputs": [],
   "source": []
  },
  {
   "cell_type": "code",
   "execution_count": null,
   "id": "5c9a8902",
   "metadata": {},
   "outputs": [],
   "source": [
    "# R2Test = 0.7464426208244624\n",
    "# R2Train = 0.7507459874931361\n",
    "\n",
    "# variance = 0.7507459874931361 - 0.7464426208244624 \n",
    "# variance = 0.004303366668673703"
   ]
  },
  {
   "cell_type": "code",
   "execution_count": null,
   "id": "d430d6b0",
   "metadata": {},
   "outputs": [],
   "source": [
    "# Model has underfitted"
   ]
  },
  {
   "cell_type": "code",
   "execution_count": null,
   "id": "43bdfcf8",
   "metadata": {},
   "outputs": [],
   "source": [
    "import pickle\n",
    "\n",
    "with open(\"linear_medical.pkl\", \"wb\") as f:\n",
    "    pickle.dump(Lin_model, f)\n"
   ]
  },
  {
   "cell_type": "code",
   "execution_count": null,
   "id": "811b83fe",
   "metadata": {},
   "outputs": [],
   "source": [
    "x.columns"
   ]
  },
  {
   "cell_type": "code",
   "execution_count": null,
   "id": "e0804f95",
   "metadata": {},
   "outputs": [],
   "source": [
    "json_data = {\"sex\" : {\"male\": 1, \"female\": 0},\n",
    "             \"smoker\" : {\"yes\": 1 , \"no\" : 0},\n",
    "             \"columns\" : list(x.columns)}\n",
    "json_data"
   ]
  },
  {
   "cell_type": "code",
   "execution_count": null,
   "id": "f8a2e7b3",
   "metadata": {},
   "outputs": [],
   "source": [
    "age = 45\n",
    "sex = \"male\"\n",
    "bmi = 29\n",
    "children = 0.0\n",
    "smoker = \"no\"\n",
    "region = \"northwest\"\n",
    "\n",
    "region = \"region_\" + region\n",
    "region\n",
    "\n",
    "region_index = np.where(x.columns == region)[0][0]\n",
    "region_index"
   ]
  },
  {
   "cell_type": "code",
   "execution_count": null,
   "id": "c93c190e",
   "metadata": {},
   "outputs": [],
   "source": [
    "test_array = np.zeros(len(x.columns))\n",
    "test_array"
   ]
  },
  {
   "cell_type": "code",
   "execution_count": null,
   "id": "8df9d5f2",
   "metadata": {},
   "outputs": [],
   "source": [
    "test_array[0] = age\n",
    "test_array[1] = json_data['sex'][sex]\n",
    "test_array[2] = np.sqrt(bmi)\n",
    "test_array[3] = children\n",
    "test_array[4] = json_data['smoker'][smoker]\n",
    "test_array[region_index] = 1\n",
    "\n",
    "test_array"
   ]
  },
  {
   "cell_type": "code",
   "execution_count": null,
   "id": "2b04b390",
   "metadata": {},
   "outputs": [],
   "source": [
    "charges = round(Lin_model.predict([test_array])[0],2)\n",
    "print(\"Predicted Medical Insurance Charges is :\", charges, \"/- Rs. Only\")"
   ]
  },
  {
   "cell_type": "code",
   "execution_count": null,
   "id": "732ad4e3",
   "metadata": {},
   "outputs": [],
   "source": [
    "# with open(\"Linear model.pkl\", \"rb\") as f:\n",
    "#     model = pickle.load(f)\n"
   ]
  },
  {
   "cell_type": "code",
   "execution_count": null,
   "id": "7090cec7",
   "metadata": {},
   "outputs": [],
   "source": [
    "model.predict([test_array])"
   ]
  },
  {
   "cell_type": "code",
   "execution_count": null,
   "id": "c6847740",
   "metadata": {},
   "outputs": [],
   "source": [
    "pip "
   ]
  }
 ],
 "metadata": {
  "kernelspec": {
   "display_name": "Python 3 (ipykernel)",
   "language": "python",
   "name": "python3"
  },
  "language_info": {
   "codemirror_mode": {
    "name": "ipython",
    "version": 3
   },
   "file_extension": ".py",
   "mimetype": "text/x-python",
   "name": "python",
   "nbconvert_exporter": "python",
   "pygments_lexer": "ipython3",
   "version": "3.9.13"
  }
 },
 "nbformat": 4,
 "nbformat_minor": 5
}
