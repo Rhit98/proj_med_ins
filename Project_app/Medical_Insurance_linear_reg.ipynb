{
 "cells": [
  {
   "cell_type": "code",
   "execution_count": 4,
   "id": "8a60d0bb",
   "metadata": {},
   "outputs": [],
   "source": [
    "import numpy as np\n",
    "import pandas as pd\n",
    "\n",
    "import matplotlib.pyplot as plt\n",
    "import seaborn as sns\n",
    "\n",
    "# Feature Selection\n",
    "from statsmodels.stats.outliers_influence import variance_inflation_factor\n",
    "\n",
    "# Model Building\n",
    "from sklearn.model_selection import train_test_split\n",
    "from sklearn.linear_model import LinearRegression\n",
    "\n",
    "# Evaluation Metrics\n",
    "from sklearn.metrics import mean_absolute_error, mean_squared_error, r2_score\n",
    "\n",
    "from scipy.stats import zscore"
   ]
  },
  {
   "cell_type": "code",
   "execution_count": null,
   "id": "114f6311",
   "metadata": {},
   "outputs": [],
   "source": []
  },
  {
   "cell_type": "markdown",
   "id": "566d8d2c",
   "metadata": {},
   "source": [
    "# 1. Data Gathering"
   ]
  },
  {
   "cell_type": "code",
   "execution_count": 5,
   "id": "59389005",
   "metadata": {},
   "outputs": [
    {
     "data": {
      "text/html": [
       "<div>\n",
       "<style scoped>\n",
       "    .dataframe tbody tr th:only-of-type {\n",
       "        vertical-align: middle;\n",
       "    }\n",
       "\n",
       "    .dataframe tbody tr th {\n",
       "        vertical-align: top;\n",
       "    }\n",
       "\n",
       "    .dataframe thead th {\n",
       "        text-align: right;\n",
       "    }\n",
       "</style>\n",
       "<table border=\"1\" class=\"dataframe\">\n",
       "  <thead>\n",
       "    <tr style=\"text-align: right;\">\n",
       "      <th></th>\n",
       "      <th>age</th>\n",
       "      <th>sex</th>\n",
       "      <th>bmi</th>\n",
       "      <th>children</th>\n",
       "      <th>smoker</th>\n",
       "      <th>region</th>\n",
       "      <th>charges</th>\n",
       "    </tr>\n",
       "  </thead>\n",
       "  <tbody>\n",
       "    <tr>\n",
       "      <th>0</th>\n",
       "      <td>19</td>\n",
       "      <td>female</td>\n",
       "      <td>27.900</td>\n",
       "      <td>0</td>\n",
       "      <td>yes</td>\n",
       "      <td>southwest</td>\n",
       "      <td>16884.92400</td>\n",
       "    </tr>\n",
       "    <tr>\n",
       "      <th>1</th>\n",
       "      <td>18</td>\n",
       "      <td>male</td>\n",
       "      <td>33.770</td>\n",
       "      <td>1</td>\n",
       "      <td>no</td>\n",
       "      <td>southeast</td>\n",
       "      <td>1725.55230</td>\n",
       "    </tr>\n",
       "    <tr>\n",
       "      <th>2</th>\n",
       "      <td>28</td>\n",
       "      <td>male</td>\n",
       "      <td>33.000</td>\n",
       "      <td>3</td>\n",
       "      <td>no</td>\n",
       "      <td>southeast</td>\n",
       "      <td>4449.46200</td>\n",
       "    </tr>\n",
       "    <tr>\n",
       "      <th>3</th>\n",
       "      <td>33</td>\n",
       "      <td>male</td>\n",
       "      <td>22.705</td>\n",
       "      <td>0</td>\n",
       "      <td>no</td>\n",
       "      <td>northwest</td>\n",
       "      <td>21984.47061</td>\n",
       "    </tr>\n",
       "    <tr>\n",
       "      <th>4</th>\n",
       "      <td>32</td>\n",
       "      <td>male</td>\n",
       "      <td>28.880</td>\n",
       "      <td>0</td>\n",
       "      <td>no</td>\n",
       "      <td>northwest</td>\n",
       "      <td>3866.85520</td>\n",
       "    </tr>\n",
       "    <tr>\n",
       "      <th>...</th>\n",
       "      <td>...</td>\n",
       "      <td>...</td>\n",
       "      <td>...</td>\n",
       "      <td>...</td>\n",
       "      <td>...</td>\n",
       "      <td>...</td>\n",
       "      <td>...</td>\n",
       "    </tr>\n",
       "    <tr>\n",
       "      <th>1333</th>\n",
       "      <td>50</td>\n",
       "      <td>male</td>\n",
       "      <td>30.970</td>\n",
       "      <td>3</td>\n",
       "      <td>no</td>\n",
       "      <td>northwest</td>\n",
       "      <td>10600.54830</td>\n",
       "    </tr>\n",
       "    <tr>\n",
       "      <th>1334</th>\n",
       "      <td>18</td>\n",
       "      <td>female</td>\n",
       "      <td>31.920</td>\n",
       "      <td>0</td>\n",
       "      <td>no</td>\n",
       "      <td>northeast</td>\n",
       "      <td>2205.98080</td>\n",
       "    </tr>\n",
       "    <tr>\n",
       "      <th>1335</th>\n",
       "      <td>18</td>\n",
       "      <td>female</td>\n",
       "      <td>36.850</td>\n",
       "      <td>0</td>\n",
       "      <td>no</td>\n",
       "      <td>southeast</td>\n",
       "      <td>1629.83350</td>\n",
       "    </tr>\n",
       "    <tr>\n",
       "      <th>1336</th>\n",
       "      <td>21</td>\n",
       "      <td>female</td>\n",
       "      <td>25.800</td>\n",
       "      <td>0</td>\n",
       "      <td>no</td>\n",
       "      <td>southwest</td>\n",
       "      <td>2007.94500</td>\n",
       "    </tr>\n",
       "    <tr>\n",
       "      <th>1337</th>\n",
       "      <td>61</td>\n",
       "      <td>female</td>\n",
       "      <td>29.070</td>\n",
       "      <td>0</td>\n",
       "      <td>yes</td>\n",
       "      <td>northwest</td>\n",
       "      <td>29141.36030</td>\n",
       "    </tr>\n",
       "  </tbody>\n",
       "</table>\n",
       "<p>1338 rows × 7 columns</p>\n",
       "</div>"
      ],
      "text/plain": [
       "      age     sex     bmi  children smoker     region      charges\n",
       "0      19  female  27.900         0    yes  southwest  16884.92400\n",
       "1      18    male  33.770         1     no  southeast   1725.55230\n",
       "2      28    male  33.000         3     no  southeast   4449.46200\n",
       "3      33    male  22.705         0     no  northwest  21984.47061\n",
       "4      32    male  28.880         0     no  northwest   3866.85520\n",
       "...   ...     ...     ...       ...    ...        ...          ...\n",
       "1333   50    male  30.970         3     no  northwest  10600.54830\n",
       "1334   18  female  31.920         0     no  northeast   2205.98080\n",
       "1335   18  female  36.850         0     no  southeast   1629.83350\n",
       "1336   21  female  25.800         0     no  southwest   2007.94500\n",
       "1337   61  female  29.070         0    yes  northwest  29141.36030\n",
       "\n",
       "[1338 rows x 7 columns]"
      ]
     },
     "execution_count": 5,
     "metadata": {},
     "output_type": "execute_result"
    }
   ],
   "source": [
    "df = pd.read_csv(\"../medical_insurance.csv\")\n",
    "df"
   ]
  },
  {
   "cell_type": "markdown",
   "id": "ac61e0ca",
   "metadata": {},
   "source": [
    "# 2. Explioratorty Data Analysis and Feature Engg"
   ]
  },
  {
   "cell_type": "markdown",
   "id": "42cdca77",
   "metadata": {},
   "source": [
    "## 1. Age"
   ]
  },
  {
   "cell_type": "code",
   "execution_count": 6,
   "id": "9dd36f5f",
   "metadata": {},
   "outputs": [
    {
     "data": {
      "text/plain": [
       "0       19\n",
       "1       18\n",
       "2       28\n",
       "3       33\n",
       "4       32\n",
       "        ..\n",
       "1333    50\n",
       "1334    18\n",
       "1335    18\n",
       "1336    21\n",
       "1337    61\n",
       "Name: age, Length: 1338, dtype: int64"
      ]
     },
     "execution_count": 6,
     "metadata": {},
     "output_type": "execute_result"
    }
   ],
   "source": [
    "df[\"age\"]"
   ]
  },
  {
   "cell_type": "code",
   "execution_count": 7,
   "id": "cc65d51e",
   "metadata": {},
   "outputs": [
    {
     "name": "stdout",
     "output_type": "stream",
     "text": [
      "<class 'pandas.core.series.Series'>\n",
      "RangeIndex: 1338 entries, 0 to 1337\n",
      "Series name: age\n",
      "Non-Null Count  Dtype\n",
      "--------------  -----\n",
      "1338 non-null   int64\n",
      "dtypes: int64(1)\n",
      "memory usage: 10.6 KB\n"
     ]
    }
   ],
   "source": [
    "df[\"age\"].info()"
   ]
  },
  {
   "cell_type": "code",
   "execution_count": 8,
   "id": "67995109",
   "metadata": {},
   "outputs": [
    {
     "data": {
      "text/plain": [
       "18    69\n",
       "19    68\n",
       "50    29\n",
       "51    29\n",
       "47    29\n",
       "46    29\n",
       "45    29\n",
       "20    29\n",
       "48    29\n",
       "52    29\n",
       "22    28\n",
       "49    28\n",
       "54    28\n",
       "53    28\n",
       "21    28\n",
       "26    28\n",
       "24    28\n",
       "25    28\n",
       "28    28\n",
       "27    28\n",
       "23    28\n",
       "43    27\n",
       "29    27\n",
       "30    27\n",
       "41    27\n",
       "42    27\n",
       "44    27\n",
       "31    27\n",
       "40    27\n",
       "32    26\n",
       "33    26\n",
       "56    26\n",
       "34    26\n",
       "55    26\n",
       "57    26\n",
       "37    25\n",
       "59    25\n",
       "58    25\n",
       "36    25\n",
       "38    25\n",
       "35    25\n",
       "39    25\n",
       "61    23\n",
       "60    23\n",
       "63    23\n",
       "62    23\n",
       "64    22\n",
       "Name: age, dtype: int64"
      ]
     },
     "execution_count": 8,
     "metadata": {},
     "output_type": "execute_result"
    }
   ],
   "source": [
    "df[\"age\"].value_counts()"
   ]
  },
  {
   "cell_type": "markdown",
   "id": "ad2c3f0d",
   "metadata": {},
   "source": [
    "### Detecting Outliers"
   ]
  },
  {
   "cell_type": "code",
   "execution_count": 9,
   "id": "f48a28e8",
   "metadata": {},
   "outputs": [
    {
     "name": "stderr",
     "output_type": "stream",
     "text": [
      "C:\\Users\\rohit\\anaconda3\\lib\\site-packages\\seaborn\\_decorators.py:36: FutureWarning: Pass the following variable as a keyword arg: x. From version 0.12, the only valid positional argument will be `data`, and passing other arguments without an explicit keyword will result in an error or misinterpretation.\n",
      "  warnings.warn(\n"
     ]
    },
    {
     "data": {
      "text/plain": [
       "<AxesSubplot:xlabel='age'>"
      ]
     },
     "execution_count": 9,
     "metadata": {},
     "output_type": "execute_result"
    },
    {
     "data": {
      "image/png": "[encoded data removed]",
      "text/plain": [
       "<Figure size 640x480 with 1 Axes>"
      ]
     },
     "metadata": {},
     "output_type": "display_data"
    }
   ],
   "source": [
    "sns.boxplot(df[\"age\"])"
   ]
  },
  {
   "cell_type": "code",
   "execution_count": 10,
   "id": "96998ba5",
   "metadata": {},
   "outputs": [],
   "source": [
    "# No OUtliers."
   ]
  },
  {
   "cell_type": "code",
   "execution_count": 11,
   "id": "62491be5",
   "metadata": {},
   "outputs": [
    {
     "name": "stdout",
     "output_type": "stream",
     "text": [
      "<class 'pandas.core.frame.DataFrame'>\n",
      "RangeIndex: 1338 entries, 0 to 1337\n",
      "Data columns (total 7 columns):\n",
      " #   Column    Non-Null Count  Dtype  \n",
      "---  ------    --------------  -----  \n",
      " 0   age       1338 non-null   int64  \n",
      " 1   sex       1338 non-null   object \n",
      " 2   bmi       1338 non-null   float64\n",
      " 3   children  1338 non-null   int64  \n",
      " 4   smoker    1338 non-null   object \n",
      " 5   region    1338 non-null   object \n",
      " 6   charges   1338 non-null   float64\n",
      "dtypes: float64(2), int64(2), object(3)\n",
      "memory usage: 73.3+ KB\n"
     ]
    }
   ],
   "source": [
    "df.info()"
   ]
  },
  {
   "cell_type": "markdown",
   "id": "2102a05e",
   "metadata": {},
   "source": [
    "## 2. sex"
   ]
  },
  {
   "cell_type": "code",
   "execution_count": 12,
   "id": "73c7e638",
   "metadata": {},
   "outputs": [
    {
     "data": {
      "text/plain": [
       "male      676\n",
       "female    662\n",
       "Name: sex, dtype: int64"
      ]
     },
     "execution_count": 12,
     "metadata": {},
     "output_type": "execute_result"
    }
   ],
   "source": [
    "df[\"sex\"].value_counts()"
   ]
  },
  {
   "cell_type": "code",
   "execution_count": 13,
   "id": "17c23ee2",
   "metadata": {},
   "outputs": [
    {
     "data": {
      "text/html": [
       "<div>\n",
       "<style scoped>\n",
       "    .dataframe tbody tr th:only-of-type {\n",
       "        vertical-align: middle;\n",
       "    }\n",
       "\n",
       "    .dataframe tbody tr th {\n",
       "        vertical-align: top;\n",
       "    }\n",
       "\n",
       "    .dataframe thead th {\n",
       "        text-align: right;\n",
       "    }\n",
       "</style>\n",
       "<table border=\"1\" class=\"dataframe\">\n",
       "  <thead>\n",
       "    <tr style=\"text-align: right;\">\n",
       "      <th></th>\n",
       "      <th>age</th>\n",
       "      <th>sex</th>\n",
       "      <th>bmi</th>\n",
       "      <th>children</th>\n",
       "      <th>smoker</th>\n",
       "      <th>region</th>\n",
       "      <th>charges</th>\n",
       "    </tr>\n",
       "  </thead>\n",
       "  <tbody>\n",
       "    <tr>\n",
       "      <th>0</th>\n",
       "      <td>19</td>\n",
       "      <td>0</td>\n",
       "      <td>27.900</td>\n",
       "      <td>0</td>\n",
       "      <td>yes</td>\n",
       "      <td>southwest</td>\n",
       "      <td>16884.92400</td>\n",
       "    </tr>\n",
       "    <tr>\n",
       "      <th>1</th>\n",
       "      <td>18</td>\n",
       "      <td>1</td>\n",
       "      <td>33.770</td>\n",
       "      <td>1</td>\n",
       "      <td>no</td>\n",
       "      <td>southeast</td>\n",
       "      <td>1725.55230</td>\n",
       "    </tr>\n",
       "    <tr>\n",
       "      <th>2</th>\n",
       "      <td>28</td>\n",
       "      <td>1</td>\n",
       "      <td>33.000</td>\n",
       "      <td>3</td>\n",
       "      <td>no</td>\n",
       "      <td>southeast</td>\n",
       "      <td>4449.46200</td>\n",
       "    </tr>\n",
       "    <tr>\n",
       "      <th>3</th>\n",
       "      <td>33</td>\n",
       "      <td>1</td>\n",
       "      <td>22.705</td>\n",
       "      <td>0</td>\n",
       "      <td>no</td>\n",
       "      <td>northwest</td>\n",
       "      <td>21984.47061</td>\n",
       "    </tr>\n",
       "    <tr>\n",
       "      <th>4</th>\n",
       "      <td>32</td>\n",
       "      <td>1</td>\n",
       "      <td>28.880</td>\n",
       "      <td>0</td>\n",
       "      <td>no</td>\n",
       "      <td>northwest</td>\n",
       "      <td>3866.85520</td>\n",
       "    </tr>\n",
       "    <tr>\n",
       "      <th>...</th>\n",
       "      <td>...</td>\n",
       "      <td>...</td>\n",
       "      <td>...</td>\n",
       "      <td>...</td>\n",
       "      <td>...</td>\n",
       "      <td>...</td>\n",
       "      <td>...</td>\n",
       "    </tr>\n",
       "    <tr>\n",
       "      <th>1333</th>\n",
       "      <td>50</td>\n",
       "      <td>1</td>\n",
       "      <td>30.970</td>\n",
       "      <td>3</td>\n",
       "      <td>no</td>\n",
       "      <td>northwest</td>\n",
       "      <td>10600.54830</td>\n",
       "    </tr>\n",
       "    <tr>\n",
       "      <th>1334</th>\n",
       "      <td>18</td>\n",
       "      <td>0</td>\n",
       "      <td>31.920</td>\n",
       "      <td>0</td>\n",
       "      <td>no</td>\n",
       "      <td>northeast</td>\n",
       "      <td>2205.98080</td>\n",
       "    </tr>\n",
       "    <tr>\n",
       "      <th>1335</th>\n",
       "      <td>18</td>\n",
       "      <td>0</td>\n",
       "      <td>36.850</td>\n",
       "      <td>0</td>\n",
       "      <td>no</td>\n",
       "      <td>southeast</td>\n",
       "      <td>1629.83350</td>\n",
       "    </tr>\n",
       "    <tr>\n",
       "      <th>1336</th>\n",
       "      <td>21</td>\n",
       "      <td>0</td>\n",
       "      <td>25.800</td>\n",
       "      <td>0</td>\n",
       "      <td>no</td>\n",
       "      <td>southwest</td>\n",
       "      <td>2007.94500</td>\n",
       "    </tr>\n",
       "    <tr>\n",
       "      <th>1337</th>\n",
       "      <td>61</td>\n",
       "      <td>0</td>\n",
       "      <td>29.070</td>\n",
       "      <td>0</td>\n",
       "      <td>yes</td>\n",
       "      <td>northwest</td>\n",
       "      <td>29141.36030</td>\n",
       "    </tr>\n",
       "  </tbody>\n",
       "</table>\n",
       "<p>1338 rows × 7 columns</p>\n",
       "</div>"
      ],
      "text/plain": [
       "      age  sex     bmi  children smoker     region      charges\n",
       "0      19    0  27.900         0    yes  southwest  16884.92400\n",
       "1      18    1  33.770         1     no  southeast   1725.55230\n",
       "2      28    1  33.000         3     no  southeast   4449.46200\n",
       "3      33    1  22.705         0     no  northwest  21984.47061\n",
       "4      32    1  28.880         0     no  northwest   3866.85520\n",
       "...   ...  ...     ...       ...    ...        ...          ...\n",
       "1333   50    1  30.970         3     no  northwest  10600.54830\n",
       "1334   18    0  31.920         0     no  northeast   2205.98080\n",
       "1335   18    0  36.850         0     no  southeast   1629.83350\n",
       "1336   21    0  25.800         0     no  southwest   2007.94500\n",
       "1337   61    0  29.070         0    yes  northwest  29141.36030\n",
       "\n",
       "[1338 rows x 7 columns]"
      ]
     },
     "execution_count": 13,
     "metadata": {},
     "output_type": "execute_result"
    }
   ],
   "source": [
    "df[\"sex\"].replace({\"male\": 1, \"female\": 0}, inplace = True)\n",
    "df"
   ]
  },
  {
   "cell_type": "code",
   "execution_count": 14,
   "id": "f3bae83a",
   "metadata": {},
   "outputs": [
    {
     "data": {
      "text/plain": [
       "0"
      ]
     },
     "execution_count": 14,
     "metadata": {},
     "output_type": "execute_result"
    }
   ],
   "source": [
    "df[\"sex\"].isna().sum()"
   ]
  },
  {
   "cell_type": "code",
   "execution_count": 15,
   "id": "279e56a9",
   "metadata": {},
   "outputs": [
    {
     "name": "stdout",
     "output_type": "stream",
     "text": [
      "<class 'pandas.core.frame.DataFrame'>\n",
      "RangeIndex: 1338 entries, 0 to 1337\n",
      "Data columns (total 7 columns):\n",
      " #   Column    Non-Null Count  Dtype  \n",
      "---  ------    --------------  -----  \n",
      " 0   age       1338 non-null   int64  \n",
      " 1   sex       1338 non-null   int64  \n",
      " 2   bmi       1338 non-null   float64\n",
      " 3   children  1338 non-null   int64  \n",
      " 4   smoker    1338 non-null   object \n",
      " 5   region    1338 non-null   object \n",
      " 6   charges   1338 non-null   float64\n",
      "dtypes: float64(2), int64(3), object(2)\n",
      "memory usage: 73.3+ KB\n"
     ]
    }
   ],
   "source": [
    "df.info()"
   ]
  },
  {
   "cell_type": "markdown",
   "id": "dd3f1f08",
   "metadata": {},
   "source": [
    "## 3. bmi"
   ]
  },
  {
   "cell_type": "code",
   "execution_count": 16,
   "id": "c7c1a552",
   "metadata": {},
   "outputs": [
    {
     "data": {
      "text/plain": [
       "0"
      ]
     },
     "execution_count": 16,
     "metadata": {},
     "output_type": "execute_result"
    }
   ],
   "source": [
    "df[\"bmi\"].isna().sum()"
   ]
  },
  {
   "cell_type": "code",
   "execution_count": 17,
   "id": "518a5b90",
   "metadata": {},
   "outputs": [],
   "source": [
    "# No null values"
   ]
  },
  {
   "cell_type": "code",
   "execution_count": 18,
   "id": "113339af",
   "metadata": {},
   "outputs": [
    {
     "name": "stderr",
     "output_type": "stream",
     "text": [
      "C:\\Users\\rohit\\anaconda3\\lib\\site-packages\\seaborn\\_decorators.py:36: FutureWarning: Pass the following variable as a keyword arg: x. From version 0.12, the only valid positional argument will be `data`, and passing other arguments without an explicit keyword will result in an error or misinterpretation.\n",
      "  warnings.warn(\n"
     ]
    },
    {
     "data": {
      "text/plain": [
       "<AxesSubplot:xlabel='bmi'>"
      ]
     },
     "execution_count": 18,
     "metadata": {},
     "output_type": "execute_result"
    },
    {
     "data": {
      "image/png": "[encoded data removed]",
      "text/plain": [
       "<Figure size 640x480 with 1 Axes>"
      ]
     },
     "metadata": {},
     "output_type": "display_data"
    }
   ],
   "source": [
    "sns.boxplot(df[\"bmi\"])"
   ]
  },
  {
   "cell_type": "code",
   "execution_count": 19,
   "id": "c81be361",
   "metadata": {},
   "outputs": [],
   "source": [
    "# Outliers Detected\n",
    "# Outliers are only in the upper tail\n",
    "# Getting the outliers"
   ]
  },
  {
   "cell_type": "code",
   "execution_count": 20,
   "id": "fbe13a3a",
   "metadata": {},
   "outputs": [
    {
     "name": "stdout",
     "output_type": "stream",
     "text": [
      "Q1 : 26.29625\n",
      "Q2 : 30.4\n",
      "Q3 : 34.69375\n",
      "Median : 30.4\n",
      "upper_tail : 47.290000000000006\n",
      "lower_tail : 13.7\n"
     ]
    }
   ],
   "source": [
    "q1 = df['bmi'].quantile(0.25)\n",
    "q2 = df['bmi'].quantile(0.50)\n",
    "q3 = df['bmi'].quantile(0.75)\n",
    "median = df['bmi'].median()\n",
    "\n",
    "iqr = q3 - q1\n",
    "\n",
    "upper_tail = q3 + 1.5 * iqr\n",
    "lower_tail = q1 - 1.5 * iqr\n",
    "\n",
    "print(\"Q1 :\", q1)\n",
    "print(\"Q2 :\", q2)\n",
    "print(\"Q3 :\", q3)\n",
    "print(\"Median :\",median)\n",
    "\n",
    "print(\"upper_tail :\", upper_tail)\n",
    "print(\"lower_tail :\", lower_tail)"
   ]
  },
  {
   "cell_type": "code",
   "execution_count": 21,
   "id": "174eadb8",
   "metadata": {},
   "outputs": [
    {
     "data": {
      "text/plain": [
       "116     49.06\n",
       "286     48.07\n",
       "401     47.52\n",
       "543     47.41\n",
       "847     50.38\n",
       "860     47.60\n",
       "1047    52.58\n",
       "1088    47.74\n",
       "1317    53.13\n",
       "Name: bmi, dtype: float64"
      ]
     },
     "execution_count": 21,
     "metadata": {},
     "output_type": "execute_result"
    }
   ],
   "source": [
    "df[\"bmi\"].loc[df[\"bmi\"] > upper_tail]"
   ]
  },
  {
   "cell_type": "code",
   "execution_count": 22,
   "id": "c4c6972f",
   "metadata": {},
   "outputs": [],
   "source": [
    "# Handling the outliers by tranformation"
   ]
  },
  {
   "cell_type": "code",
   "execution_count": 23,
   "id": "0910466f",
   "metadata": {},
   "outputs": [],
   "source": [
    "# Log Tranformation"
   ]
  },
  {
   "cell_type": "code",
   "execution_count": 24,
   "id": "7d0ea507",
   "metadata": {},
   "outputs": [
    {
     "name": "stderr",
     "output_type": "stream",
     "text": [
      "C:\\Users\\rohit\\anaconda3\\lib\\site-packages\\seaborn\\_decorators.py:36: FutureWarning: Pass the following variable as a keyword arg: x. From version 0.12, the only valid positional argument will be `data`, and passing other arguments without an explicit keyword will result in an error or misinterpretation.\n",
      "  warnings.warn(\n"
     ]
    },
    {
     "data": {
      "text/plain": [
       "<AxesSubplot:xlabel='bmi'>"
      ]
     },
     "execution_count": 24,
     "metadata": {},
     "output_type": "execute_result"
    },
    {
     "data": {
      "image/png": "[encoded data removed]",
      "text/plain": [
       "<Figure size 640x480 with 1 Axes>"
      ]
     },
     "metadata": {},
     "output_type": "display_data"
    }
   ],
   "source": [
    "sns.boxplot(np.log(df[\"bmi\"]))"
   ]
  },
  {
   "cell_type": "code",
   "execution_count": null,
   "id": "c158cd0f",
   "metadata": {},
   "outputs": [],
   "source": []
  },
  {
   "cell_type": "code",
   "execution_count": 25,
   "id": "f05d9a1e",
   "metadata": {},
   "outputs": [],
   "source": [
    "# Sqrt tranformation"
   ]
  },
  {
   "cell_type": "code",
   "execution_count": 26,
   "id": "c8b88363",
   "metadata": {},
   "outputs": [
    {
     "name": "stderr",
     "output_type": "stream",
     "text": [
      "C:\\Users\\rohit\\anaconda3\\lib\\site-packages\\seaborn\\_decorators.py:36: FutureWarning: Pass the following variable as a keyword arg: x. From version 0.12, the only valid positional argument will be `data`, and passing other arguments without an explicit keyword will result in an error or misinterpretation.\n",
      "  warnings.warn(\n"
     ]
    },
    {
     "data": {
      "text/plain": [
       "<AxesSubplot:xlabel='bmi'>"
      ]
     },
     "execution_count": 26,
     "metadata": {},
     "output_type": "execute_result"
    },
    {
     "data": {
      "image/png": "[encoded data removed]",
      "text/plain": [
       "<Figure size 640x480 with 1 Axes>"
      ]
     },
     "metadata": {},
     "output_type": "display_data"
    }
   ],
   "source": [
    "sns.boxplot(np.sqrt(df[\"bmi\"]))"
   ]
  },
  {
   "cell_type": "code",
   "execution_count": 27,
   "id": "2ab2f832",
   "metadata": {},
   "outputs": [],
   "source": [
    "# cube root tranformation"
   ]
  },
  {
   "cell_type": "code",
   "execution_count": 28,
   "id": "3f1c2549",
   "metadata": {},
   "outputs": [
    {
     "name": "stderr",
     "output_type": "stream",
     "text": [
      "C:\\Users\\rohit\\anaconda3\\lib\\site-packages\\seaborn\\_decorators.py:36: FutureWarning: Pass the following variable as a keyword arg: x. From version 0.12, the only valid positional argument will be `data`, and passing other arguments without an explicit keyword will result in an error or misinterpretation.\n",
      "  warnings.warn(\n"
     ]
    },
    {
     "data": {
      "text/plain": [
       "<AxesSubplot:xlabel='bmi'>"
      ]
     },
     "execution_count": 28,
     "metadata": {},
     "output_type": "execute_result"
    },
    {
     "data": {
      "image/png": "[encoded data removed]",
      "text/plain": [
       "<Figure size 640x480 with 1 Axes>"
      ]
     },
     "metadata": {},
     "output_type": "display_data"
    }
   ],
   "source": [
    "sns.boxplot(np.cbrt(df[\"bmi\"]))"
   ]
  },
  {
   "cell_type": "code",
   "execution_count": 29,
   "id": "9f135a5a",
   "metadata": {},
   "outputs": [],
   "source": [
    "# reciprocal"
   ]
  },
  {
   "cell_type": "code",
   "execution_count": 30,
   "id": "5d1e95b1",
   "metadata": {},
   "outputs": [
    {
     "name": "stderr",
     "output_type": "stream",
     "text": [
      "C:\\Users\\rohit\\anaconda3\\lib\\site-packages\\seaborn\\_decorators.py:36: FutureWarning: Pass the following variable as a keyword arg: x. From version 0.12, the only valid positional argument will be `data`, and passing other arguments without an explicit keyword will result in an error or misinterpretation.\n",
      "  warnings.warn(\n"
     ]
    },
    {
     "data": {
      "text/plain": [
       "<AxesSubplot:xlabel='bmi'>"
      ]
     },
     "execution_count": 30,
     "metadata": {},
     "output_type": "execute_result"
    },
    {
     "data": {
      "image/png": "[encoded data removed]",
      "text/plain": [
       "<Figure size 640x480 with 1 Axes>"
      ]
     },
     "metadata": {},
     "output_type": "display_data"
    }
   ],
   "source": [
    "sns.boxplot(1/(df[\"bmi\"]))"
   ]
  },
  {
   "cell_type": "code",
   "execution_count": 31,
   "id": "72601075",
   "metadata": {},
   "outputs": [],
   "source": [
    "# standardization"
   ]
  },
  {
   "cell_type": "code",
   "execution_count": 32,
   "id": "1d103198",
   "metadata": {},
   "outputs": [
    {
     "data": {
      "text/plain": [
       "0      -0.453320\n",
       "1       0.509621\n",
       "2       0.383307\n",
       "3      -1.305531\n",
       "4      -0.292556\n",
       "          ...   \n",
       "1333    0.050297\n",
       "1334    0.206139\n",
       "1335    1.014878\n",
       "1336   -0.797813\n",
       "1337   -0.261388\n",
       "Name: bmi, Length: 1338, dtype: float64"
      ]
     },
     "execution_count": 32,
     "metadata": {},
     "output_type": "execute_result"
    }
   ],
   "source": [
    "z_score_values = zscore(df['bmi'])\n",
    "z_score_values"
   ]
  },
  {
   "cell_type": "code",
   "execution_count": 33,
   "id": "89b23cad",
   "metadata": {},
   "outputs": [
    {
     "name": "stderr",
     "output_type": "stream",
     "text": [
      "C:\\Users\\rohit\\anaconda3\\lib\\site-packages\\seaborn\\_decorators.py:36: FutureWarning: Pass the following variable as a keyword arg: x. From version 0.12, the only valid positional argument will be `data`, and passing other arguments without an explicit keyword will result in an error or misinterpretation.\n",
      "  warnings.warn(\n"
     ]
    },
    {
     "data": {
      "text/plain": [
       "<AxesSubplot:xlabel='bmi'>"
      ]
     },
     "execution_count": 33,
     "metadata": {},
     "output_type": "execute_result"
    },
    {
     "data": {
      "image/png": "[encoded data removed]",
      "text/plain": [
       "<Figure size 640x480 with 1 Axes>"
      ]
     },
     "metadata": {},
     "output_type": "display_data"
    }
   ],
   "source": [
    "sns.boxplot(z_score_values)"
   ]
  },
  {
   "cell_type": "code",
   "execution_count": 34,
   "id": "e5f2e706",
   "metadata": {},
   "outputs": [],
   "source": [
    "# Normlization"
   ]
  },
  {
   "cell_type": "code",
   "execution_count": 35,
   "id": "4886d08a",
   "metadata": {},
   "outputs": [],
   "source": [
    "min_value = np.min(df['bmi'])\n",
    "max_value = np.max(df['bmi'])"
   ]
  },
  {
   "cell_type": "code",
   "execution_count": 36,
   "id": "bdfe0876",
   "metadata": {},
   "outputs": [
    {
     "data": {
      "text/plain": [
       "[0.3212267958030669,\n",
       " 0.479149852031208,\n",
       " 0.4584342211460855,\n",
       " 0.18146354587032545,\n",
       " 0.3475921442023136,\n",
       " 0.26311541565778845,\n",
       " 0.47027172450901256,\n",
       " 0.3169222491256389,\n",
       " 0.37315039009954254,\n",
       " 0.265805757331181,\n",
       " 0.2760290556900726,\n",
       " 0.27791229486144736,\n",
       " 0.49609900457358075,\n",
       " 0.6419155232714554,\n",
       " 0.7040624159268227,\n",
       " 0.2324455205811138,\n",
       " 0.3987086359967716,\n",
       " 0.2121334409470002,\n",
       " 0.6548291633037394,\n",
       " 0.5203120796341134,\n",
       " 0.5392789884315308,\n",
       " 0.4422921711057303,\n",
       " 0.48802797955340327,\n",
       " 0.4293785310734463,\n",
       " 0.3245897228948076,\n",
       " 0.31638418079096037,\n",
       " 0.1916868442292171,\n",
       " 0.4523809523809523,\n",
       " 0.03833736884584344,\n",
       " 0.5472154963680386,\n",
       " 0.5283831046542911,\n",
       " 0.27858488027979555,\n",
       " 0.34005918751681463,\n",
       " 0.33225719666397624,\n",
       " 0.5499058380414312,\n",
       " 0.12012375571697605,\n",
       " 0.4574926015603982,\n",
       " 0.130212536992198,\n",
       " 0.5571697605595911,\n",
       " 0.6440677966101694,\n",
       " 0.2862523540489642,\n",
       " 0.5560936238902341,\n",
       " 0.1565778853914447,\n",
       " 0.3992467043314501,\n",
       " 0.5673930589184826,\n",
       " 0.5741189131019638,\n",
       " 0.6108420769437718,\n",
       " 0.5060532687651332,\n",
       " 0.23056228140973903,\n",
       " 0.5176217379607211,\n",
       " 0.5290556900726392,\n",
       " 0.47538337368845845,\n",
       " 0.32391713747645945,\n",
       " 0.49690610707559857,\n",
       " 0.3424804950228679,\n",
       " 0.5648372343287597,\n",
       " 0.4268227064837234,\n",
       " 0.42292171105730425,\n",
       " 0.1861716437987624,\n",
       " 0.5750605326876513,\n",
       " 0.3066989507667473,\n",
       " 0.47619047619047605,\n",
       " 0.23513586225450628,\n",
       " 0.26836158192090387,\n",
       " 0.17379607210115686,\n",
       " 0.3481302125369921,\n",
       " 0.6225450632230293,\n",
       " 0.27858488027979555,\n",
       " 0.5442561205273069,\n",
       " 0.21576540220608015,\n",
       " 0.23648103309120255,\n",
       " 0.3373688458434221,\n",
       " 0.32660747914985205,\n",
       " 0.4317998385794995,\n",
       " 0.3077750874361043,\n",
       " 0.4856066720473499,\n",
       " 0.36669357008340053,\n",
       " 0.5264998654829163,\n",
       " 0.6415119720204465,\n",
       " 0.4574926015603982,\n",
       " 0.2939198278181329,\n",
       " 0.6006187785848801,\n",
       " 0.5827280064568199,\n",
       " 0.6798493408662899,\n",
       " 0.5068603712671508,\n",
       " 0.18657519504977127,\n",
       " 0.4089319343556631,\n",
       " 0.3023944040893193,\n",
       " 0.3169222491256389,\n",
       " 0.2964756524078558,\n",
       " 0.6330373957492602,\n",
       " 0.23769168684422923,\n",
       " 0.37315039009954254,\n",
       " 0.5060532687651332,\n",
       " 0.4126984126984127,\n",
       " 0.5827280064568199,\n",
       " 0.3992467043314501,\n",
       " 0.6004842615012106,\n",
       " 0.10734463276836154,\n",
       " 0.08985741189131019,\n",
       " 0.42076943771859027,\n",
       " 0.2555824589722895,\n",
       " 0.38081786386871125,\n",
       " 0.3755716976055959,\n",
       " 0.31046542910949687,\n",
       " 0.3245897228948076,\n",
       " 0.33467850417002953,\n",
       " 0.40126446058649445,\n",
       " 0.322302932472424,\n",
       " 0.5146623621199893,\n",
       " 0.47538337368845845,\n",
       " 0.3696529459241323,\n",
       " 0.3992467043314501,\n",
       " 0.531611514662362,\n",
       " 0.4370460048426149,\n",
       " 0.33992467043314495,\n",
       " 0.8905030938929244,\n",
       " 0.322302932472424,\n",
       " 0.30158730158730157,\n",
       " 0.1993543179983858,\n",
       " 0.5687382297551788,\n",
       " 0.20957761635727734,\n",
       " 0.3501479687920366,\n",
       " 0.41404358353510895,\n",
       " 0.48305084745762705,\n",
       " 0.3450363196125908,\n",
       " 0.33198816249663704,\n",
       " 0.5768092547753564,\n",
       " 0.048560667204734995,\n",
       " 0.5041700295937585,\n",
       " 0.2836965294592413,\n",
       " 0.16357277374226523,\n",
       " 0.5364541296744686,\n",
       " 0.25813828356201235,\n",
       " 0.3450363196125908,\n",
       " 0.3252623083131558,\n",
       " 0.48802797955340327,\n",
       " 0.24791498520312077,\n",
       " 0.42884046273876775,\n",
       " 0.5391444713478611,\n",
       " 0.17379607210115686,\n",
       " 0.44471347861178373,\n",
       " 0.2512779122948614,\n",
       " 0.3705945655098197,\n",
       " 0.3424804950228679,\n",
       " 0.6152811407048694,\n",
       " 0.3910411622276029,\n",
       " 0.5856873822975517,\n",
       " 0.5776163572773741,\n",
       " 0.33467850417002953,\n",
       " 0.2198009147161689,\n",
       " 0.3696529459241323,\n",
       " 0.5699488835082056,\n",
       " 0.1993543179983858,\n",
       " 0.2555824589722895,\n",
       " 0.633844498251278,\n",
       " 0.22760290556900728,\n",
       " 0.24791498520312077,\n",
       " 0.5264998654829163,\n",
       " 0.3193435566316921,\n",
       " 0.2862523540489642,\n",
       " 0.5620123755716976,\n",
       " 0.6359967715899919,\n",
       " 0.3723432875975249,\n",
       " 0.3680387409200968,\n",
       " 0.3297013720742534,\n",
       " 0.5660478880817863,\n",
       " 0.46260425073984396,\n",
       " 0.4268227064837234,\n",
       " 0.07923056228140975,\n",
       " 0.686306160882432,\n",
       " 0.38579499596448746,\n",
       " 0.0,\n",
       " 0.5068603712671508,\n",
       " 0.4677158999192897,\n",
       " 0.584880279795534,\n",
       " 0.31947807371536185,\n",
       " 0.3562012375571697,\n",
       " 0.3481302125369921,\n",
       " 0.46260425073984396,\n",
       " 0.33992467043314495,\n",
       " 0.6004842615012106,\n",
       " 0.10734463276836154,\n",
       " 0.2811407048695184,\n",
       " 0.3962873284907183,\n",
       " 0.6977401129943503,\n",
       " 0.3755716976055959,\n",
       " 0.40193704600484254,\n",
       " 0.4369114877589454,\n",
       " 0.43449018025289204,\n",
       " 0.41996233521657245,\n",
       " 0.27549098735539407,\n",
       " 0.26311541565778845,\n",
       " 0.2862523540489642,\n",
       " 0.49690610707559857,\n",
       " 0.39359698681732574,\n",
       " 0.4530535377993004,\n",
       " 0.34005918751681463,\n",
       " 0.05622814097390368,\n",
       " 0.628732849071832,\n",
       " 0.43449018025289204,\n",
       " 0.437718590260963,\n",
       " 0.21724509012644602,\n",
       " 0.5412967446865751,\n",
       " 0.1705676620930858,\n",
       " 0.3475921442023136,\n",
       " 0.2808716707021791,\n",
       " 0.3169222491256389,\n",
       " 0.42615012106537525,\n",
       " 0.6798493408662899,\n",
       " 0.4584342211460855,\n",
       " 0.40126446058649445,\n",
       " 0.3373688458434221,\n",
       " 0.28974979822437447,\n",
       " 0.40193704600484254,\n",
       " 0.5687382297551788,\n",
       " 0.2862523540489642,\n",
       " 0.192090395480226,\n",
       " 0.3755716976055959,\n",
       " 0.19504977132095774,\n",
       " 0.47726661285983324,\n",
       " 0.4651600753295668,\n",
       " 0.3992467043314501,\n",
       " 0.5068603712671508,\n",
       " 0.2335216572504708,\n",
       " 0.48210922787193977,\n",
       " 0.5945655098197471,\n",
       " 0.698143664245359,\n",
       " 0.42171105730427766,\n",
       " 0.2555824589722895,\n",
       " 0.5443906376109765,\n",
       " 0.3193435566316921,\n",
       " 0.04950228679042238,\n",
       " 0.31046542910949687,\n",
       " 0.23002421307506055,\n",
       " 0.16841538875437173,\n",
       " 0.28974979822437447,\n",
       " 0.6034436373419424,\n",
       " 0.35270379338175945,\n",
       " 0.5945655098197471,\n",
       " 0.5571697605595911,\n",
       " 0.16612859833198818,\n",
       " 0.29163303739574925,\n",
       " 0.5203120796341134,\n",
       " 0.3169222491256389,\n",
       " 0.3782620392789884,\n",
       " 0.5945655098197471,\n",
       " 0.5353779930051116,\n",
       " 0.13290287866559047,\n",
       " 0.3501479687920366,\n",
       " 0.03578154425612048,\n",
       " 0.4369114877589454,\n",
       " 0.490987355394135,\n",
       " 0.38579499596448746,\n",
       " 0.4268227064837234,\n",
       " 0.2530266343825665,\n",
       " 0.47538337368845845,\n",
       " 0.6507936507936507,\n",
       " 0.22746838848533757,\n",
       " 0.4293785310734463,\n",
       " 0.24858757062146888,\n",
       " 0.2927091740651062,\n",
       " 0.22491256389561473,\n",
       " 0.5648372343287597,\n",
       " 0.5945655098197471,\n",
       " 0.7099811676082862,\n",
       " 0.1033091202582728,\n",
       " 0.44215765402206086,\n",
       " 0.3831046542910949,\n",
       " 0.265805757331181,\n",
       " 0.36077481840193704,\n",
       " 0.4907183212267958,\n",
       " 0.5673930589184826,\n",
       " 0.30925477535647017,\n",
       " 0.31181059994619315,\n",
       " 0.2862523540489642,\n",
       " 0.12523540489642176,\n",
       " 0.22437449556093622,\n",
       " 0.425881086898036,\n",
       " 0.1506591337099811,\n",
       " 0.3271455474845305,\n",
       " 0.6619585687382297,\n",
       " 0.314366424535916,\n",
       " 0.44215765402206086,\n",
       " 0.4100080710250201,\n",
       " 0.2867904223836427,\n",
       " 0.8638687113263384,\n",
       " 0.2760290556900726,\n",
       " 0.5597255851493139,\n",
       " 0.2808716707021791,\n",
       " 0.46919558783965554,\n",
       " 0.3680387409200968,\n",
       " 0.7958030669895075,\n",
       " 0.34597793919827813,\n",
       " 0.29163303739574925,\n",
       " 0.18913101963949414,\n",
       " 0.3158461124562819,\n",
       " 0.2542372881355932,\n",
       " 0.49582997040624155,\n",
       " 0.3475921442023136,\n",
       " 0.31181059994619315,\n",
       " 0.1789077212806026,\n",
       " 0.5797686306160882,\n",
       " 0.4584342211460855,\n",
       " 0.5929513048157116,\n",
       " 0.4677158999192897,\n",
       " 0.31046542910949687,\n",
       " 0.4673123486682808,\n",
       " 0.508609093354856,\n",
       " 0.4600484261501211,\n",
       " 0.2862523540489642,\n",
       " 0.23513586225450628,\n",
       " 0.5383373688458434,\n",
       " 0.5353779930051116,\n",
       " 0.4153887543718051,\n",
       " 0.4651600753295668,\n",
       " 0.4370460048426149,\n",
       " 0.4523809523809523,\n",
       " 0.314366424535916,\n",
       " 0.5750605326876513,\n",
       " 0.25047080979284364,\n",
       " 0.3680387409200968,\n",
       " 0.3992467043314501,\n",
       " 0.6721818670971212,\n",
       " 0.3023944040893193,\n",
       " 0.4881624966370728,\n",
       " 0.19504977132095774,\n",
       " 0.5520581113801452,\n",
       " 0.4799569545332256,\n",
       " 0.5579768630616089,\n",
       " 0.5495022867904222,\n",
       " 0.3066989507667473,\n",
       " 0.4089319343556631,\n",
       " 0.3450363196125908,\n",
       " 0.531611514662362,\n",
       " 0.4987893462469733,\n",
       " 0.26311541565778845,\n",
       " 0.31181059994619315,\n",
       " 0.4396018294323378,\n",
       " 0.31638418079096037,\n",
       " 0.3131557707828894,\n",
       " 0.3782620392789884,\n",
       " 0.31181059994619315,\n",
       " 0.5597255851493139,\n",
       " 0.686306160882432,\n",
       " 0.3578154425612053,\n",
       " 0.5324186171643799,\n",
       " 0.4677158999192897,\n",
       " 0.3755716976055959,\n",
       " 0.31947807371536185,\n",
       " 0.19424266881893998,\n",
       " 0.259348937315039,\n",
       " 0.3158461124562819,\n",
       " 0.5188323917137475,\n",
       " 0.6004842615012106,\n",
       " 0.3131557707828894,\n",
       " 0.751412429378531,\n",
       " 0.37315039009954254,\n",
       " 0.698143664245359,\n",
       " 0.1299435028248587,\n",
       " 0.4396018294323378,\n",
       " 0.3911756793112725,\n",
       " 0.15442561205273064,\n",
       " 0.2808716707021791,\n",
       " 0.15953726123217646,\n",
       " 0.3987086359967716,\n",
       " 0.4396018294323378,\n",
       " 0.24280333602367496,\n",
       " 0.4319343556631692,\n",
       " 0.38848533763787996,\n",
       " 0.1380145278450363,\n",
       " 0.16868442292171104,\n",
       " 0.46260425073984396,\n",
       " 0.45574387947269296,\n",
       " 0.4673123486682808,\n",
       " 0.33225719666397624,\n",
       " 0.2402475114339521,\n",
       " 0.6507936507936507,\n",
       " 0.38081786386871125,\n",
       " 0.4170029593758407,\n",
       " 0.05367231638418072,\n",
       " 0.3961528114070486,\n",
       " 0.4584342211460855,\n",
       " 0.7366155501748722,\n",
       " 0.16612859833198818,\n",
       " 0.49609900457358075,\n",
       " 0.6211998923863329,\n",
       " 0.2530266343825665,\n",
       " 0.1789077212806026,\n",
       " 0.3833736884584342,\n",
       " 0.5290556900726392,\n",
       " 0.5776163572773741,\n",
       " 0.4165994081248318,\n",
       " 0.41404358353510895,\n",
       " 0.4396018294323378,\n",
       " 0.10478880817863867,\n",
       " 0.49609900457358075,\n",
       " 0.4051654560129136,\n",
       " 0.259348937315039,\n",
       " 0.5975248856604789,\n",
       " 0.12483185364541298,\n",
       " 0.8490718321226796,\n",
       " 0.4574926015603982,\n",
       " 0.4396018294323378,\n",
       " 0.11945117029862785,\n",
       " 0.6031746031746031,\n",
       " 0.22464352972827542,\n",
       " 0.2055421038471886,\n",
       " 0.13882163034705408,\n",
       " 0.3785310734463277,\n",
       " 0.04089319343556631,\n",
       " 0.11501210653753022,\n",
       " 0.03322571966639762,\n",
       " 0.21361312886736608,\n",
       " 0.5162765671240247,\n",
       " 0.5294592413236481,\n",
       " 0.48802797955340327,\n",
       " 0.1786386871132634,\n",
       " 0.6241592682270647,\n",
       " 0.2964756524078558,\n",
       " 0.48210922787193977,\n",
       " 0.5353779930051116,\n",
       " 0.4523809523809523,\n",
       " 0.39359698681732574,\n",
       " 0.3831046542910949,\n",
       " 0.22464352972827542,\n",
       " 0.30414312617702444,\n",
       " 0.3552596179714823,\n",
       " 0.023002421307506064,\n",
       " 0.38848533763787996,\n",
       " 0.46112456281947806,\n",
       " 0.11501210653753022,\n",
       " 0.2943233790691417,\n",
       " 0.3911756793112725,\n",
       " 0.33992467043314495,\n",
       " 0.46139359698681726,\n",
       " 0.4242668818940005,\n",
       " 0.3481302125369921,\n",
       " 0.8283562012375572,\n",
       " 0.362927091740651,\n",
       " 0.44982512779122946,\n",
       " 0.4718859295130481,\n",
       " 0.7277374226526768,\n",
       " 0.5531342480495023,\n",
       " 0.2888081786386871,\n",
       " 0.46112456281947806,\n",
       " 0.3680387409200968,\n",
       " 0.2606941081517352,\n",
       " 0.36696260425073984,\n",
       " 0.6090933548560667,\n",
       " 0.36696260425073984,\n",
       " 0.2198009147161689,\n",
       " 0.20016142050040348,\n",
       " 0.3705945655098197,\n",
       " 0.8224374495560935,\n",
       " 0.5768092547753564,\n",
       " 0.38149044928705944,\n",
       " 0.3910411622276029,\n",
       " 0.6359967715899919,\n",
       " 0.4584342211460855,\n",
       " 0.5560936238902341,\n",
       " 0.3777239709443099,\n",
       " 0.5955071294054344,\n",
       " 0.26836158192090387,\n",
       " 0.24791498520312077,\n",
       " 0.334140435835351,\n",
       " 0.3427495291902071,\n",
       " 0.4804950228679042,\n",
       " 0.22491256389561473,\n",
       " 0.2187247780468119,\n",
       " 0.44955609362389026,\n",
       " 0.38081786386871125,\n",
       " 0.3723432875975249,\n",
       " 0.4677158999192897,\n",
       " 0.24589722894807642,\n",
       " 0.33225719666397624,\n",
       " 0.3373688458434221,\n",
       " 0.5290556900726392,\n",
       " 0.5620123755716976,\n",
       " 0.44659671778315846,\n",
       " 0.6824051654560129,\n",
       " 0.5797686306160882,\n",
       " 0.41404358353510895,\n",
       " 0.6333064299165994,\n",
       " 0.4934086629001882,\n",
       " 0.40637610976594024,\n",
       " 0.14823782620392784,\n",
       " 0.3427495291902071,\n",
       " 0.5945655098197471,\n",
       " 0.4089319343556631,\n",
       " 0.45574387947269296,\n",
       " 0.24535916061339783,\n",
       " 0.24535916061339783,\n",
       " 0.7382297551789077,\n",
       " 0.2620392789884315,\n",
       " 0.3220338983050847,\n",
       " 0.2055421038471886,\n",
       " 0.3427495291902071,\n",
       " 0.21576540220608015,\n",
       " 0.6252354048964218,\n",
       " 0.49609900457358075,\n",
       " 0.27091740651062685,\n",
       " 0.19504977132095774,\n",
       " 0.3844498251277912,\n",
       " 0.34893731503900993,\n",
       " 0.40126446058649445,\n",
       " 0.41404358353510895,\n",
       " 0.20957761635727734,\n",
       " 0.25047080979284364,\n",
       " 0.3427495291902071,\n",
       " 0.43449018025289204,\n",
       " 0.47619047619047605,\n",
       " 0.17379607210115686,\n",
       " 0.38848533763787996,\n",
       " 0.33198816249663704,\n",
       " 0.5310734463276836,\n",
       " 0.5205811138014528,\n",
       " 0.3910411622276029,\n",
       " 0.4046273876782351,\n",
       " 0.40126446058649445,\n",
       " 0.3066989507667473,\n",
       " 0.7602905569007263,\n",
       " 0.48305084745762705,\n",
       " 0.5856873822975517,\n",
       " 0.2719935431799838,\n",
       " 0.48210922787193977,\n",
       " 0.39359698681732574,\n",
       " 0.26472962066182404,\n",
       " 0.6312886736615549,\n",
       " 0.2555824589722895,\n",
       " 0.7040624159268227,\n",
       " 0.4242668818940005,\n",
       " 0.3696529459241323,\n",
       " 0.5442561205273069,\n",
       " 0.659671778315846,\n",
       " 0.3245897228948076,\n",
       " 0.6171643798762442,\n",
       " 0.3831046542910949,\n",
       " 0.3252623083131558,\n",
       " 0.41404358353510895,\n",
       " 0.5929513048157116,\n",
       " 0.425881086898036,\n",
       " 0.5472154963680386,\n",
       " 0.8461124562819476,\n",
       " 0.3833736884584342,\n",
       " 0.265805757331181,\n",
       " 0.5239440408931935,\n",
       " 0.8270110304008609,\n",
       " 0.33992467043314495,\n",
       " 0.8135593220338984,\n",
       " 0.3992467043314501,\n",
       " 0.34893731503900993,\n",
       " 0.14635458703255308,\n",
       " 0.4242668818940005,\n",
       " 0.6824051654560129,\n",
       " 0.21092278719397362,\n",
       " 0.47027172450901256,\n",
       " 0.490987355394135,\n",
       " 0.4881624966370728,\n",
       " 0.5264998654829163,\n",
       " 0.10734463276836154,\n",
       " 0.44982512779122946,\n",
       " 0.3911756793112725,\n",
       " 0.7750874361043852,\n",
       " 0.43475921442023124,\n",
       " 0.3910411622276029,\n",
       " 0.6619585687382297,\n",
       " 0.39359698681732574,\n",
       " 0.42884046273876775,\n",
       " 0.6619585687382297,\n",
       " 0.35351089588377727,\n",
       " 0.5738498789346246,\n",
       " 0.7306967984934085,\n",
       " 0.5622814097390368,\n",
       " 0.4932741458165187,\n",
       " 0.30158730158730157,\n",
       " 0.2927091740651062,\n",
       " 0.5955071294054344,\n",
       " 0.3831046542910949,\n",
       " 0.20191014258810866,\n",
       " 0.2555824589722895,\n",
       " 0.39359698681732574,\n",
       " 0.7928436911487758,\n",
       " 0.2068872746838848,\n",
       " 0.12752219531880543,\n",
       " 0.3311810599946193,\n",
       " 0.11501210653753022,\n",
       " 0.3833736884584342,\n",
       " 0.5367231638418077,\n",
       " 0.3962873284907183,\n",
       " 0.35082055421038466,\n",
       " 0.09712133440946999,\n",
       " 0.40812483185364534,\n",
       " 0.1584611245628195,\n",
       " 0.6537530266343825,\n",
       " 0.4779391982781813,\n",
       " 0.3637341942426688,\n",
       " 0.4651600753295668,\n",
       " 0.4476728544525155,\n",
       " 0.5801721818670971,\n",
       " 0.6241592682270647,\n",
       " 0.42171105730427766,\n",
       " 0.2512779122948614,\n",
       " 0.6211998923863329,\n",
       " 0.33225719666397624,\n",
       " 0.48802797955340327,\n",
       " 0.24791498520312077,\n",
       " 0.20702179176755447,\n",
       " 0.2964756524078558,\n",
       " 0.5875706214689265,\n",
       " 0.36077481840193704,\n",
       " 0.5068603712671508,\n",
       " 0.46260425073984396,\n",
       " 0.08178638687113261,\n",
       " 0.4584342211460855,\n",
       " 0.5560936238902341,\n",
       " 0.33992467043314495,\n",
       " 0.259348937315039,\n",
       " 0.46139359698681726,\n",
       " 0.5687382297551788,\n",
       " 0.4153887543718051,\n",
       " 0.48802797955340327,\n",
       " 0.14366424535916061,\n",
       " 0.4728275490987354,\n",
       " 0.3450363196125908,\n",
       " 0.27091740651062685,\n",
       " 0.3475921442023136,\n",
       " 0.712940543449018,\n",
       " 0.5929513048157116,\n",
       " 0.6185095507129406,\n",
       " 0.5418348130212537,\n",
       " 0.35889157923056225,\n",
       " 0.5264998654829163,\n",
       " 0.18146354587032545,\n",
       " 0.6386871132633845,\n",
       " 0.5980629539951573,\n",
       " 0.23002421307506055,\n",
       " 0.5955071294054344,\n",
       " 0.2811407048695184,\n",
       " 0.47619047619047605,\n",
       " 0.7113263384449824,\n",
       " 0.33225719666397624,\n",
       " 0.48305084745762705,\n",
       " 0.511164917944579,\n",
       " 0.5205811138014528,\n",
       " 0.3987086359967716,\n",
       " 0.2760290556900726,\n",
       " 0.1993543179983858,\n",
       " 0.3373688458434221,\n",
       " 0.4574926015603982,\n",
       " 0.7188592951304815,\n",
       " 0.6359967715899919,\n",
       " 0.40812483185364534,\n",
       " 0.5472154963680386,\n",
       " 0.5176217379607211,\n",
       " 0.2512779122948614,\n",
       " 0.7113263384449824,\n",
       " 0.46260425073984396,\n",
       " 0.5367231638418077,\n",
       " 0.3450363196125908,\n",
       " 0.8224374495560935,\n",
       " 0.21576540220608015,\n",
       " 0.4191552327145547,\n",
       " 0.47619047619047605,\n",
       " 0.18913101963949414,\n",
       " 0.5945655098197471,\n",
       " 0.3427495291902071,\n",
       " 0.4523809523809523,\n",
       " 0.4319343556631692,\n",
       " 0.3726123217648641,\n",
       " 0.41996233521657245,\n",
       " 0.4089319343556631,\n",
       " 0.3696529459241323,\n",
       " 0.4051654560129136,\n",
       " 0.751412429378531,\n",
       " 0.14568200161420497,\n",
       " 0.6685499058380414,\n",
       " 0.41404358353510895,\n",
       " 0.5418348130212537,\n",
       " 0.19424266881893998,\n",
       " 0.03874092009685224,\n",
       " 0.1167608286252354,\n",
       " 0.5203120796341134,\n",
       " 0.22491256389561473,\n",
       " 0.06833467850417001,\n",
       " 0.2811407048695184,\n",
       " 0.2734732311003497,\n",
       " 0.6922249125638955,\n",
       " 0.2189938122141512,\n",
       " 0.40812483185364534,\n",
       " 0.3066989507667473,\n",
       " 0.5445251546946462,\n",
       " 0.44215765402206086,\n",
       " 0.20702179176755447,\n",
       " 0.5068603712671508,\n",
       " 0.6517352703793382,\n",
       " 0.4396018294323378,\n",
       " 0.5324186171643799,\n",
       " 0.4779391982781813,\n",
       " 0.6271186440677966,\n",
       " 0.5087436104385256,\n",
       " 0.774414850686037,\n",
       " 0.686306160882432,\n",
       " 0.2811407048695184,\n",
       " 0.36548291633037394,\n",
       " 0.45574387947269296,\n",
       " 0.5945655098197471,\n",
       " 0.3424804950228679,\n",
       " 0.3910411622276029,\n",
       " 0.3169222491256389,\n",
       " 0.5176217379607211,\n",
       " 0.20392789884315302,\n",
       " 0.3961528114070486,\n",
       " 0.6594027441485067,\n",
       " 0.1786386871132634,\n",
       " 0.3481302125369921,\n",
       " 0.1789077212806026,\n",
       " 0.22491256389561473,\n",
       " 0.5571697605595911,\n",
       " 0.47027172450901256,\n",
       " 0.6645143933279525,\n",
       " 0.5552865213882163,\n",
       " 0.5768092547753564,\n",
       " 0.523002421307506,\n",
       " 0.29903147699757865,\n",
       " 0.6211998923863329,\n",
       " 0.3348130212536992,\n",
       " 0.15590529997309652,\n",
       " 0.654291094969061,\n",
       " 0.5412967446865751,\n",
       " 0.22760290556900728,\n",
       " 0.14635458703255308,\n",
       " 0.3804143126177024,\n",
       " 0.30414312617702444,\n",
       " 0.43422114608555284,\n",
       " 0.5060532687651332,\n",
       " 0.6034436373419424,\n",
       " 0.20823244552058107,\n",
       " 0.4242668818940005,\n",
       " 0.5256927629808985,\n",
       " 0.21724509012644602,\n",
       " 0.35485606672047343,\n",
       " 0.4881624966370728,\n",
       " 0.2867904223836427,\n",
       " 0.2811407048695184,\n",
       " 0.38081786386871125,\n",
       " 0.2970137207425343,\n",
       " 0.15590529997309652,\n",
       " 0.5391444713478611,\n",
       " 0.40126446058649445,\n",
       " 0.2808716707021791,\n",
       " 0.3501479687920366,\n",
       " 0.5903954802259886,\n",
       " 0.18321226795803064,\n",
       " 0.47538337368845845,\n",
       " 0.314366424535916,\n",
       " 0.1840193704600484,\n",
       " 0.3193435566316921,\n",
       " 0.5776163572773741,\n",
       " 0.5975248856604789,\n",
       " 0.5009416195856873,\n",
       " 0.5176217379607211,\n",
       " 0.29970406241592684,\n",
       " 0.27091740651062685,\n",
       " 0.24791498520312077,\n",
       " 0.4268227064837234,\n",
       " 0.4396018294323378,\n",
       " 0.35082055421038466,\n",
       " 0.6386871132633845,\n",
       " 0.09456550981974712,\n",
       " 0.5418348130212537,\n",
       " 0.2889426957223567,\n",
       " 0.5520581113801452,\n",
       " 0.3475921442023136,\n",
       " 0.4907183212267958,\n",
       " 0.4673123486682808,\n",
       " 0.4396018294323378,\n",
       " 0.6415119720204465,\n",
       " 0.49394673123486676,\n",
       " 0.3475921442023136,\n",
       " 0.2270648372343287,\n",
       " 0.6774280333602367,\n",
       " 0.5383373688458434,\n",
       " 0.3131557707828894,\n",
       " 0.3578154425612053,\n",
       " 0.3158461124562819,\n",
       " 0.5648372343287597,\n",
       " 0.5622814097390368,\n",
       " 0.17635189669087972,\n",
       " 0.3755716976055959,\n",
       " 0.6951842884046272,\n",
       " 0.3131557707828894,\n",
       " 0.19424266881893998,\n",
       " 0.13290287866559047,\n",
       " 0.4293785310734463,\n",
       " 0.3373688458434221,\n",
       " 0.7602905569007263,\n",
       " 0.18657519504977127,\n",
       " 0.46112456281947806,\n",
       " 0.23769168684422923,\n",
       " 0.2749529190207156,\n",
       " 0.5383373688458434,\n",
       " 0.1705676620930858,\n",
       " 0.7070217917675545,\n",
       " 0.28383104654291097,\n",
       " 0.5341673392520849,\n",
       " 0.6849609900457359,\n",
       " 0.5546139359698682,\n",
       " 0.38149044928705944,\n",
       " 0.265805757331181,\n",
       " 0.3992467043314501,\n",
       " 0.725854183481302,\n",
       " 0.1358622545063223,\n",
       " 0.17635189669087972,\n",
       " 0.49690610707559857,\n",
       " 0.4170029593758407,\n",
       " 0.22235673930589187,\n",
       " 0.5687382297551788,\n",
       " 0.2734732311003497,\n",
       " 0.5264998654829163,\n",
       " 0.47726661285983324,\n",
       " 0.04600484261501213,\n",
       " 0.40812483185364534,\n",
       " 0.3726123217648641,\n",
       " 0.22491256389561473,\n",
       " 0.4268227064837234,\n",
       " 0.425881086898036,\n",
       " 0.3245897228948076,\n",
       " 0.3987086359967716,\n",
       " 0.1584611245628195,\n",
       " 0.46112456281947806,\n",
       " 0.265805757331181,\n",
       " 0.2121334409470002,\n",
       " 0.49582997040624155,\n",
       " 0.4804950228679042,\n",
       " 0.5383373688458434,\n",
       " 0.4180790960451977,\n",
       " 0.33225719666397624,\n",
       " 0.20191014258810866,\n",
       " 0.41404358353510895,\n",
       " 0.40731772935162763,\n",
       " 0.23513586225450628,\n",
       " 0.452515469464622,\n",
       " 0.3726123217648641,\n",
       " 0.3910411622276029,\n",
       " 0.4436373419424267,\n",
       " 0.4907183212267958,\n",
       " 0.9260156039817057,\n",
       " 0.2189938122141512,\n",
       " 0.4523809523809523,\n",
       " 0.3987086359967716,\n",
       " 0.4396018294323378,\n",
       " 0.5264998654829163,\n",
       " 0.20957761635727734,\n",
       " 0.2121334409470002,\n",
       " 0.36696260425073984,\n",
       " 0.46139359698681726,\n",
       " 0.2198009147161689,\n",
       " 0.437718590260963,\n",
       " 0.32660747914985205,\n",
       " 0.8512241054613936,\n",
       " 0.32391713747645945,\n",
       " 0.4728275490987354,\n",
       " 0.10478880817863867,\n",
       " 0.2539682539682539,\n",
       " 0.3750336292709173,\n",
       " 0.5738498789346246,\n",
       " 0.7463007801990853,\n",
       " 0.20702179176755447,\n",
       " 0.22437449556093622,\n",
       " 0.5445251546946462,\n",
       " 0.3637341942426688,\n",
       " 0.2394404089319343,\n",
       " 0.3804143126177024,\n",
       " 0.1584611245628195,\n",
       " 0.3271455474845305,\n",
       " 0.29970406241592684,\n",
       " 0.47027172450901256,\n",
       " 0.3454398708635997,\n",
       " 0.3642722625773473,\n",
       " 0.5068603712671508,\n",
       " 0.3066989507667473,\n",
       " 0.16612859833198818,\n",
       " 0.5673930589184826,\n",
       " 0.2888081786386871,\n",
       " 0.34893731503900993,\n",
       " 0.3501479687920366,\n",
       " 0.3782620392789884,\n",
       " 0.6333064299165994,\n",
       " 0.47538337368845845,\n",
       " 0.2939198278181329,\n",
       " 0.3518966908797417,\n",
       " 0.21724509012644602,\n",
       " 0.6182405165456012,\n",
       " 0.43449018025289204,\n",
       " 0.7543718052192628,\n",
       " 0.1099004573580845,\n",
       " 0.25813828356201235,\n",
       " 0.6537530266343825,\n",
       " 0.17635189669087972,\n",
       " 0.17635189669087972,\n",
       " 0.6715092816787732,\n",
       " 0.30414312617702444,\n",
       " 0.5620123755716976,\n",
       " 0.5149313962873285,\n",
       " 0.36037126715092815,\n",
       " 0.4472693032015066,\n",
       " 0.44067796610169496,\n",
       " 0.6413774549367769,\n",
       " 0.2324455205811138,\n",
       " 0.33225719666397624,\n",
       " 0.4242668818940005,\n",
       " 0.2888081786386871,\n",
       " 0.31046542910949687,\n",
       " 0.2325800376647834,\n",
       " 0.4850686037126715,\n",
       " 0.2939198278181329,\n",
       " 0.18657519504977127,\n",
       " 0.3292978208232445,\n",
       " 0.490987355394135,\n",
       " 0.24320688727468384,\n",
       " 0.4638149044928706,\n",
       " 0.4046273876782351,\n",
       " 0.5341673392520849,\n",
       " 0.19478073715361846,\n",
       " 0.43449018025289204,\n",
       " 0.20016142050040348,\n",
       " 0.11138014527845037,\n",
       " 0.6241592682270647,\n",
       " 0.490987355394135,\n",
       " 0.8224374495560935,\n",
       " 0.44498251277912293,\n",
       " 0.26472962066182404,\n",
       " 0.5203120796341134,\n",
       " 0.5708905030938929,\n",
       " 0.31046542910949687,\n",
       " 0.3705945655098197,\n",
       " 0.22235673930589187,\n",
       " 0.2749529190207156,\n",
       " 0.3637341942426688,\n",
       " 0.19504977132095774,\n",
       " 0.8105999461931666,\n",
       " 0.6517352703793382,\n",
       " 0.1789077212806026,\n",
       " 0.6448748991121872,\n",
       " 0.533763788001076,\n",
       " 0.533763788001076,\n",
       " 0.4907183212267958,\n",
       " 0.411487758945386,\n",
       " 0.3696529459241323,\n",
       " 0.06389561474307237,\n",
       " 0.724778046811945,\n",
       " 0.3348130212536992,\n",
       " 0.3831046542910949,\n",
       " 0.31947807371536185,\n",
       " 0.6330373957492602,\n",
       " 0.3992467043314501,\n",
       " 0.29136400322840994,\n",
       " 0.511164917944579,\n",
       " 0.5571697605595911,\n",
       " 0.6364003228410008,\n",
       " 0.2674199623352165,\n",
       " 0.5176217379607211,\n",
       " 0.23769168684422923,\n",
       " 0.5597255851493139,\n",
       " 0.29970406241592684,\n",
       " 0.23769168684422923,\n",
       " 0.2530266343825665,\n",
       " 0.26324993274145814,\n",
       " 0.49394673123486676,\n",
       " 0.3282216841538875,\n",
       " 0.20446596717783153,\n",
       " 0.11501210653753022,\n",
       " 0.6602098466505245,\n",
       " 0.5235404896421846,\n",
       " 0.18657519504977127,\n",
       " 0.6507936507936507,\n",
       " 0.35485606672047343,\n",
       " 0.6466236211998923,\n",
       " 0.3755716976055959,\n",
       " 0.2555824589722895,\n",
       " 0.14568200161420497,\n",
       " 0.2674199623352165,\n",
       " 0.39359698681732574,\n",
       " 0.38081786386871125,\n",
       " 0.26472962066182404,\n",
       " 0.38081786386871125,\n",
       " 0.314366424535916,\n",
       " 0.5034974441754102,\n",
       " 0.12267958030669891,\n",
       " 0.1033091202582728,\n",
       " 0.31947807371536185,\n",
       " 0.42076943771859027,\n",
       " 0.3311810599946193,\n",
       " 0.1099004573580845,\n",
       " 0.19679849340866282,\n",
       " 0.48802797955340327,\n",
       " 0.5620123755716976,\n",
       " 0.5469464622006994,\n",
       " 0.2939198278181329,\n",
       " ...]"
      ]
     },
     "execution_count": 36,
     "metadata": {},
     "output_type": "execute_result"
    }
   ],
   "source": [
    "normalized_list = []\n",
    "\n",
    "for i in df['bmi']:\n",
    "    normalized_value = (i- min_value)/(max_value - min_value)\n",
    "    normalized_list.append(normalized_value)\n",
    "    \n",
    "normalized_list"
   ]
  },
  {
   "cell_type": "code",
   "execution_count": 37,
   "id": "08520388",
   "metadata": {},
   "outputs": [
    {
     "name": "stderr",
     "output_type": "stream",
     "text": [
      "C:\\Users\\rohit\\anaconda3\\lib\\site-packages\\seaborn\\_decorators.py:36: FutureWarning: Pass the following variable as a keyword arg: x. From version 0.12, the only valid positional argument will be `data`, and passing other arguments without an explicit keyword will result in an error or misinterpretation.\n",
      "  warnings.warn(\n"
     ]
    },
    {
     "data": {
      "text/plain": [
       "<AxesSubplot:>"
      ]
     },
     "execution_count": 37,
     "metadata": {},
     "output_type": "execute_result"
    },
    {
     "data": {
      "image/png": "[encoded data removed]",
      "text/plain": [
       "<Figure size 640x480 with 1 Axes>"
      ]
     },
     "metadata": {},
     "output_type": "display_data"
    }
   ],
   "source": [
    "sns.boxplot(normalized_list)"
   ]
  },
  {
   "cell_type": "code",
   "execution_count": 38,
   "id": "a625ae96",
   "metadata": {},
   "outputs": [],
   "source": [
    "# Lowest outliers are there in SQrt and Cbrt tranformation\n",
    "# we will find the lowest of both"
   ]
  },
  {
   "cell_type": "code",
   "execution_count": 39,
   "id": "01c646cc",
   "metadata": {},
   "outputs": [],
   "source": [
    "# 1. Sqrt"
   ]
  },
  {
   "cell_type": "code",
   "execution_count": 40,
   "id": "b741efb8",
   "metadata": {},
   "outputs": [
    {
     "name": "stdout",
     "output_type": "stream",
     "text": [
      "Q1 : 5.1279868258563415\n",
      "Q2 : 5.513619500836088\n",
      "Q3 : 5.890139994550671\n",
      "Median : 5.513619500836088\n",
      "upper_tail : 7.033369747592165\n",
      "lower_tail : 3.9847570728148476\n"
     ]
    }
   ],
   "source": [
    "q1 = np.sqrt(df['bmi']).quantile(0.25)\n",
    "q2 = np.sqrt(df['bmi']).quantile(0.50)\n",
    "q3 = np.sqrt(df['bmi']).quantile(0.75)\n",
    "median = np.sqrt(df['bmi']).median()\n",
    "\n",
    "iqr = q3 - q1\n",
    "\n",
    "upper_tail = q3 + 1.5 * iqr\n",
    "lower_tail = q1 - 1.5 * iqr\n",
    "\n",
    "print(\"Q1 :\", q1)\n",
    "print(\"Q2 :\", q2)\n",
    "print(\"Q3 :\", q3)\n",
    "print(\"Median :\",median)\n",
    "\n",
    "print(\"upper_tail :\", upper_tail)\n",
    "print(\"lower_tail :\", lower_tail)"
   ]
  },
  {
   "cell_type": "code",
   "execution_count": 41,
   "id": "b4da1f0b",
   "metadata": {},
   "outputs": [
    {
     "data": {
      "text/plain": [
       "847     7.097887\n",
       "1047    7.251207\n",
       "1317    7.289033\n",
       "Name: bmi, dtype: float64"
      ]
     },
     "execution_count": 41,
     "metadata": {},
     "output_type": "execute_result"
    }
   ],
   "source": [
    "np.sqrt(df['bmi']).loc[np.sqrt(df['bmi']) > upper_tail]"
   ]
  },
  {
   "cell_type": "code",
   "execution_count": null,
   "id": "60b63cab",
   "metadata": {},
   "outputs": [],
   "source": []
  },
  {
   "cell_type": "code",
   "execution_count": 42,
   "id": "4f66b44f",
   "metadata": {},
   "outputs": [],
   "source": [
    "# So we will do Sqrt tranformation\n",
    "# "
   ]
  },
  {
   "cell_type": "code",
   "execution_count": 43,
   "id": "1b644f39",
   "metadata": {},
   "outputs": [
    {
     "data": {
      "text/html": [
       "<div>\n",
       "<style scoped>\n",
       "    .dataframe tbody tr th:only-of-type {\n",
       "        vertical-align: middle;\n",
       "    }\n",
       "\n",
       "    .dataframe tbody tr th {\n",
       "        vertical-align: top;\n",
       "    }\n",
       "\n",
       "    .dataframe thead th {\n",
       "        text-align: right;\n",
       "    }\n",
       "</style>\n",
       "<table border=\"1\" class=\"dataframe\">\n",
       "  <thead>\n",
       "    <tr style=\"text-align: right;\">\n",
       "      <th></th>\n",
       "      <th>age</th>\n",
       "      <th>sex</th>\n",
       "      <th>bmi</th>\n",
       "      <th>children</th>\n",
       "      <th>smoker</th>\n",
       "      <th>region</th>\n",
       "      <th>charges</th>\n",
       "    </tr>\n",
       "  </thead>\n",
       "  <tbody>\n",
       "    <tr>\n",
       "      <th>0</th>\n",
       "      <td>19</td>\n",
       "      <td>0</td>\n",
       "      <td>5.282045</td>\n",
       "      <td>0</td>\n",
       "      <td>yes</td>\n",
       "      <td>southwest</td>\n",
       "      <td>16884.92400</td>\n",
       "    </tr>\n",
       "    <tr>\n",
       "      <th>1</th>\n",
       "      <td>18</td>\n",
       "      <td>1</td>\n",
       "      <td>5.811196</td>\n",
       "      <td>1</td>\n",
       "      <td>no</td>\n",
       "      <td>southeast</td>\n",
       "      <td>1725.55230</td>\n",
       "    </tr>\n",
       "    <tr>\n",
       "      <th>2</th>\n",
       "      <td>28</td>\n",
       "      <td>1</td>\n",
       "      <td>5.744563</td>\n",
       "      <td>3</td>\n",
       "      <td>no</td>\n",
       "      <td>southeast</td>\n",
       "      <td>4449.46200</td>\n",
       "    </tr>\n",
       "    <tr>\n",
       "      <th>3</th>\n",
       "      <td>33</td>\n",
       "      <td>1</td>\n",
       "      <td>4.764976</td>\n",
       "      <td>0</td>\n",
       "      <td>no</td>\n",
       "      <td>northwest</td>\n",
       "      <td>21984.47061</td>\n",
       "    </tr>\n",
       "    <tr>\n",
       "      <th>4</th>\n",
       "      <td>32</td>\n",
       "      <td>1</td>\n",
       "      <td>5.374012</td>\n",
       "      <td>0</td>\n",
       "      <td>no</td>\n",
       "      <td>northwest</td>\n",
       "      <td>3866.85520</td>\n",
       "    </tr>\n",
       "    <tr>\n",
       "      <th>...</th>\n",
       "      <td>...</td>\n",
       "      <td>...</td>\n",
       "      <td>...</td>\n",
       "      <td>...</td>\n",
       "      <td>...</td>\n",
       "      <td>...</td>\n",
       "      <td>...</td>\n",
       "    </tr>\n",
       "    <tr>\n",
       "      <th>1333</th>\n",
       "      <td>50</td>\n",
       "      <td>1</td>\n",
       "      <td>5.565070</td>\n",
       "      <td>3</td>\n",
       "      <td>no</td>\n",
       "      <td>northwest</td>\n",
       "      <td>10600.54830</td>\n",
       "    </tr>\n",
       "    <tr>\n",
       "      <th>1334</th>\n",
       "      <td>18</td>\n",
       "      <td>0</td>\n",
       "      <td>5.649779</td>\n",
       "      <td>0</td>\n",
       "      <td>no</td>\n",
       "      <td>northeast</td>\n",
       "      <td>2205.98080</td>\n",
       "    </tr>\n",
       "    <tr>\n",
       "      <th>1335</th>\n",
       "      <td>18</td>\n",
       "      <td>0</td>\n",
       "      <td>6.070420</td>\n",
       "      <td>0</td>\n",
       "      <td>no</td>\n",
       "      <td>southeast</td>\n",
       "      <td>1629.83350</td>\n",
       "    </tr>\n",
       "    <tr>\n",
       "      <th>1336</th>\n",
       "      <td>21</td>\n",
       "      <td>0</td>\n",
       "      <td>5.079370</td>\n",
       "      <td>0</td>\n",
       "      <td>no</td>\n",
       "      <td>southwest</td>\n",
       "      <td>2007.94500</td>\n",
       "    </tr>\n",
       "    <tr>\n",
       "      <th>1337</th>\n",
       "      <td>61</td>\n",
       "      <td>0</td>\n",
       "      <td>5.391660</td>\n",
       "      <td>0</td>\n",
       "      <td>yes</td>\n",
       "      <td>northwest</td>\n",
       "      <td>29141.36030</td>\n",
       "    </tr>\n",
       "  </tbody>\n",
       "</table>\n",
       "<p>1338 rows × 7 columns</p>\n",
       "</div>"
      ],
      "text/plain": [
       "      age  sex       bmi  children smoker     region      charges\n",
       "0      19    0  5.282045         0    yes  southwest  16884.92400\n",
       "1      18    1  5.811196         1     no  southeast   1725.55230\n",
       "2      28    1  5.744563         3     no  southeast   4449.46200\n",
       "3      33    1  4.764976         0     no  northwest  21984.47061\n",
       "4      32    1  5.374012         0     no  northwest   3866.85520\n",
       "...   ...  ...       ...       ...    ...        ...          ...\n",
       "1333   50    1  5.565070         3     no  northwest  10600.54830\n",
       "1334   18    0  5.649779         0     no  northeast   2205.98080\n",
       "1335   18    0  6.070420         0     no  southeast   1629.83350\n",
       "1336   21    0  5.079370         0     no  southwest   2007.94500\n",
       "1337   61    0  5.391660         0    yes  northwest  29141.36030\n",
       "\n",
       "[1338 rows x 7 columns]"
      ]
     },
     "execution_count": 43,
     "metadata": {},
     "output_type": "execute_result"
    }
   ],
   "source": [
    "df[\"bmi\"] = np.sqrt(df['bmi'])\n",
    "df"
   ]
  },
  {
   "cell_type": "code",
   "execution_count": 44,
   "id": "15b6997a",
   "metadata": {},
   "outputs": [],
   "source": [
    "# now the remaining 3 outliers will be replaced by mean()."
   ]
  },
  {
   "cell_type": "code",
   "execution_count": 45,
   "id": "45951496",
   "metadata": {},
   "outputs": [
    {
     "name": "stderr",
     "output_type": "stream",
     "text": [
      "C:\\Users\\rohit\\AppData\\Local\\Temp\\ipykernel_7940\\1889236414.py:1: SettingWithCopyWarning: \n",
      "A value is trying to be set on a copy of a slice from a DataFrame\n",
      "\n",
      "See the caveats in the documentation: https://pandas.pydata.org/pandas-docs/stable/user_guide/indexing.html#returning-a-view-versus-a-copy\n",
      "  df['bmi'].loc[df['bmi'] > upper_tail] = df['bmi'].mean()\n"
     ]
    }
   ],
   "source": [
    "df['bmi'].loc[df['bmi'] > upper_tail] = df['bmi'].mean()"
   ]
  },
  {
   "cell_type": "code",
   "execution_count": 46,
   "id": "1244326c",
   "metadata": {},
   "outputs": [],
   "source": [
    "# Now checking for Outliers"
   ]
  },
  {
   "cell_type": "code",
   "execution_count": 47,
   "id": "6555bc63",
   "metadata": {},
   "outputs": [
    {
     "name": "stderr",
     "output_type": "stream",
     "text": [
      "C:\\Users\\rohit\\anaconda3\\lib\\site-packages\\seaborn\\_decorators.py:36: FutureWarning: Pass the following variable as a keyword arg: x. From version 0.12, the only valid positional argument will be `data`, and passing other arguments without an explicit keyword will result in an error or misinterpretation.\n",
      "  warnings.warn(\n"
     ]
    },
    {
     "data": {
      "text/plain": [
       "<AxesSubplot:xlabel='bmi'>"
      ]
     },
     "execution_count": 47,
     "metadata": {},
     "output_type": "execute_result"
    },
    {
     "data": {
      "image/png": "[encoded data removed]",
      "text/plain": [
       "<Figure size 640x480 with 1 Axes>"
      ]
     },
     "metadata": {},
     "output_type": "display_data"
    }
   ],
   "source": [
    "sns.boxplot(df[\"bmi\"])"
   ]
  },
  {
   "cell_type": "code",
   "execution_count": 48,
   "id": "c79a3662",
   "metadata": {},
   "outputs": [],
   "source": [
    "# Only one outlier but not that signifcant as compared to size of data"
   ]
  },
  {
   "cell_type": "code",
   "execution_count": 49,
   "id": "a0df96f5",
   "metadata": {},
   "outputs": [
    {
     "name": "stdout",
     "output_type": "stream",
     "text": [
      "<class 'pandas.core.frame.DataFrame'>\n",
      "RangeIndex: 1338 entries, 0 to 1337\n",
      "Data columns (total 7 columns):\n",
      " #   Column    Non-Null Count  Dtype  \n",
      "---  ------    --------------  -----  \n",
      " 0   age       1338 non-null   int64  \n",
      " 1   sex       1338 non-null   int64  \n",
      " 2   bmi       1338 non-null   float64\n",
      " 3   children  1338 non-null   int64  \n",
      " 4   smoker    1338 non-null   object \n",
      " 5   region    1338 non-null   object \n",
      " 6   charges   1338 non-null   float64\n",
      "dtypes: float64(2), int64(3), object(2)\n",
      "memory usage: 73.3+ KB\n"
     ]
    }
   ],
   "source": [
    "df.info()"
   ]
  },
  {
   "cell_type": "markdown",
   "id": "64fec0b4",
   "metadata": {},
   "source": [
    "## 4. children"
   ]
  },
  {
   "cell_type": "code",
   "execution_count": 50,
   "id": "05225678",
   "metadata": {},
   "outputs": [
    {
     "data": {
      "text/plain": [
       "0    574\n",
       "1    324\n",
       "2    240\n",
       "3    157\n",
       "4     25\n",
       "5     18\n",
       "Name: children, dtype: int64"
      ]
     },
     "execution_count": 50,
     "metadata": {},
     "output_type": "execute_result"
    }
   ],
   "source": [
    "df[\"children\"].value_counts()"
   ]
  },
  {
   "cell_type": "code",
   "execution_count": 51,
   "id": "303b417b",
   "metadata": {},
   "outputs": [
    {
     "data": {
      "text/plain": [
       "0"
      ]
     },
     "execution_count": 51,
     "metadata": {},
     "output_type": "execute_result"
    }
   ],
   "source": [
    "df[\"children\"].isna().sum()"
   ]
  },
  {
   "cell_type": "markdown",
   "id": "9cdd6c6d",
   "metadata": {},
   "source": [
    "## 5. smoker"
   ]
  },
  {
   "cell_type": "code",
   "execution_count": 52,
   "id": "f53499e4",
   "metadata": {},
   "outputs": [
    {
     "data": {
      "text/plain": [
       "no     1064\n",
       "yes     274\n",
       "Name: smoker, dtype: int64"
      ]
     },
     "execution_count": 52,
     "metadata": {},
     "output_type": "execute_result"
    }
   ],
   "source": [
    "df[\"smoker\"].value_counts()"
   ]
  },
  {
   "cell_type": "code",
   "execution_count": 53,
   "id": "28fe847a",
   "metadata": {},
   "outputs": [
    {
     "data": {
      "text/plain": [
       "0"
      ]
     },
     "execution_count": 53,
     "metadata": {},
     "output_type": "execute_result"
    }
   ],
   "source": [
    "df[\"smoker\"].isna().sum()"
   ]
  },
  {
   "cell_type": "code",
   "execution_count": 54,
   "id": "01cd30ce",
   "metadata": {},
   "outputs": [
    {
     "data": {
      "text/html": [
       "<div>\n",
       "<style scoped>\n",
       "    .dataframe tbody tr th:only-of-type {\n",
       "        vertical-align: middle;\n",
       "    }\n",
       "\n",
       "    .dataframe tbody tr th {\n",
       "        vertical-align: top;\n",
       "    }\n",
       "\n",
       "    .dataframe thead th {\n",
       "        text-align: right;\n",
       "    }\n",
       "</style>\n",
       "<table border=\"1\" class=\"dataframe\">\n",
       "  <thead>\n",
       "    <tr style=\"text-align: right;\">\n",
       "      <th></th>\n",
       "      <th>age</th>\n",
       "      <th>sex</th>\n",
       "      <th>bmi</th>\n",
       "      <th>children</th>\n",
       "      <th>smoker</th>\n",
       "      <th>region</th>\n",
       "      <th>charges</th>\n",
       "    </tr>\n",
       "  </thead>\n",
       "  <tbody>\n",
       "    <tr>\n",
       "      <th>0</th>\n",
       "      <td>19</td>\n",
       "      <td>0</td>\n",
       "      <td>5.282045</td>\n",
       "      <td>0</td>\n",
       "      <td>1</td>\n",
       "      <td>southwest</td>\n",
       "      <td>16884.92400</td>\n",
       "    </tr>\n",
       "    <tr>\n",
       "      <th>1</th>\n",
       "      <td>18</td>\n",
       "      <td>1</td>\n",
       "      <td>5.811196</td>\n",
       "      <td>1</td>\n",
       "      <td>0</td>\n",
       "      <td>southeast</td>\n",
       "      <td>1725.55230</td>\n",
       "    </tr>\n",
       "    <tr>\n",
       "      <th>2</th>\n",
       "      <td>28</td>\n",
       "      <td>1</td>\n",
       "      <td>5.744563</td>\n",
       "      <td>3</td>\n",
       "      <td>0</td>\n",
       "      <td>southeast</td>\n",
       "      <td>4449.46200</td>\n",
       "    </tr>\n",
       "    <tr>\n",
       "      <th>3</th>\n",
       "      <td>33</td>\n",
       "      <td>1</td>\n",
       "      <td>4.764976</td>\n",
       "      <td>0</td>\n",
       "      <td>0</td>\n",
       "      <td>northwest</td>\n",
       "      <td>21984.47061</td>\n",
       "    </tr>\n",
       "    <tr>\n",
       "      <th>4</th>\n",
       "      <td>32</td>\n",
       "      <td>1</td>\n",
       "      <td>5.374012</td>\n",
       "      <td>0</td>\n",
       "      <td>0</td>\n",
       "      <td>northwest</td>\n",
       "      <td>3866.85520</td>\n",
       "    </tr>\n",
       "    <tr>\n",
       "      <th>...</th>\n",
       "      <td>...</td>\n",
       "      <td>...</td>\n",
       "      <td>...</td>\n",
       "      <td>...</td>\n",
       "      <td>...</td>\n",
       "      <td>...</td>\n",
       "      <td>...</td>\n",
       "    </tr>\n",
       "    <tr>\n",
       "      <th>1333</th>\n",
       "      <td>50</td>\n",
       "      <td>1</td>\n",
       "      <td>5.565070</td>\n",
       "      <td>3</td>\n",
       "      <td>0</td>\n",
       "      <td>northwest</td>\n",
       "      <td>10600.54830</td>\n",
       "    </tr>\n",
       "    <tr>\n",
       "      <th>1334</th>\n",
       "      <td>18</td>\n",
       "      <td>0</td>\n",
       "      <td>5.649779</td>\n",
       "      <td>0</td>\n",
       "      <td>0</td>\n",
       "      <td>northeast</td>\n",
       "      <td>2205.98080</td>\n",
       "    </tr>\n",
       "    <tr>\n",
       "      <th>1335</th>\n",
       "      <td>18</td>\n",
       "      <td>0</td>\n",
       "      <td>6.070420</td>\n",
       "      <td>0</td>\n",
       "      <td>0</td>\n",
       "      <td>southeast</td>\n",
       "      <td>1629.83350</td>\n",
       "    </tr>\n",
       "    <tr>\n",
       "      <th>1336</th>\n",
       "      <td>21</td>\n",
       "      <td>0</td>\n",
       "      <td>5.079370</td>\n",
       "      <td>0</td>\n",
       "      <td>0</td>\n",
       "      <td>southwest</td>\n",
       "      <td>2007.94500</td>\n",
       "    </tr>\n",
       "    <tr>\n",
       "      <th>1337</th>\n",
       "      <td>61</td>\n",
       "      <td>0</td>\n",
       "      <td>5.391660</td>\n",
       "      <td>0</td>\n",
       "      <td>1</td>\n",
       "      <td>northwest</td>\n",
       "      <td>29141.36030</td>\n",
       "    </tr>\n",
       "  </tbody>\n",
       "</table>\n",
       "<p>1338 rows × 7 columns</p>\n",
       "</div>"
      ],
      "text/plain": [
       "      age  sex       bmi  children  smoker     region      charges\n",
       "0      19    0  5.282045         0       1  southwest  16884.92400\n",
       "1      18    1  5.811196         1       0  southeast   1725.55230\n",
       "2      28    1  5.744563         3       0  southeast   4449.46200\n",
       "3      33    1  4.764976         0       0  northwest  21984.47061\n",
       "4      32    1  5.374012         0       0  northwest   3866.85520\n",
       "...   ...  ...       ...       ...     ...        ...          ...\n",
       "1333   50    1  5.565070         3       0  northwest  10600.54830\n",
       "1334   18    0  5.649779         0       0  northeast   2205.98080\n",
       "1335   18    0  6.070420         0       0  southeast   1629.83350\n",
       "1336   21    0  5.079370         0       0  southwest   2007.94500\n",
       "1337   61    0  5.391660         0       1  northwest  29141.36030\n",
       "\n",
       "[1338 rows x 7 columns]"
      ]
     },
     "execution_count": 54,
     "metadata": {},
     "output_type": "execute_result"
    }
   ],
   "source": [
    "df[\"smoker\"].replace({\"yes\": 1 , \"no\" : 0}, inplace = True)\n",
    "df"
   ]
  },
  {
   "cell_type": "code",
   "execution_count": 55,
   "id": "afd6a735",
   "metadata": {},
   "outputs": [
    {
     "name": "stdout",
     "output_type": "stream",
     "text": [
      "<class 'pandas.core.frame.DataFrame'>\n",
      "RangeIndex: 1338 entries, 0 to 1337\n",
      "Data columns (total 7 columns):\n",
      " #   Column    Non-Null Count  Dtype  \n",
      "---  ------    --------------  -----  \n",
      " 0   age       1338 non-null   int64  \n",
      " 1   sex       1338 non-null   int64  \n",
      " 2   bmi       1338 non-null   float64\n",
      " 3   children  1338 non-null   int64  \n",
      " 4   smoker    1338 non-null   int64  \n",
      " 5   region    1338 non-null   object \n",
      " 6   charges   1338 non-null   float64\n",
      "dtypes: float64(2), int64(4), object(1)\n",
      "memory usage: 73.3+ KB\n"
     ]
    }
   ],
   "source": [
    "df.info()"
   ]
  },
  {
   "cell_type": "markdown",
   "id": "51f25da6",
   "metadata": {},
   "source": [
    "## 6. region"
   ]
  },
  {
   "cell_type": "code",
   "execution_count": 56,
   "id": "288e84cd",
   "metadata": {},
   "outputs": [
    {
     "data": {
      "text/plain": [
       "southeast    364\n",
       "southwest    325\n",
       "northwest    325\n",
       "northeast    324\n",
       "Name: region, dtype: int64"
      ]
     },
     "execution_count": 56,
     "metadata": {},
     "output_type": "execute_result"
    }
   ],
   "source": [
    "df[\"region\"].value_counts()"
   ]
  },
  {
   "cell_type": "code",
   "execution_count": null,
   "id": "4f66b590",
   "metadata": {},
   "outputs": [],
   "source": []
  },
  {
   "cell_type": "code",
   "execution_count": 57,
   "id": "b40bc61f",
   "metadata": {},
   "outputs": [
    {
     "data": {
      "text/html": [
       "<div>\n",
       "<style scoped>\n",
       "    .dataframe tbody tr th:only-of-type {\n",
       "        vertical-align: middle;\n",
       "    }\n",
       "\n",
       "    .dataframe tbody tr th {\n",
       "        vertical-align: top;\n",
       "    }\n",
       "\n",
       "    .dataframe thead th {\n",
       "        text-align: right;\n",
       "    }\n",
       "</style>\n",
       "<table border=\"1\" class=\"dataframe\">\n",
       "  <thead>\n",
       "    <tr style=\"text-align: right;\">\n",
       "      <th></th>\n",
       "      <th>age</th>\n",
       "      <th>sex</th>\n",
       "      <th>bmi</th>\n",
       "      <th>children</th>\n",
       "      <th>smoker</th>\n",
       "      <th>charges</th>\n",
       "      <th>region_northeast</th>\n",
       "      <th>region_northwest</th>\n",
       "      <th>region_southeast</th>\n",
       "      <th>region_southwest</th>\n",
       "    </tr>\n",
       "  </thead>\n",
       "  <tbody>\n",
       "    <tr>\n",
       "      <th>0</th>\n",
       "      <td>19</td>\n",
       "      <td>0</td>\n",
       "      <td>5.282045</td>\n",
       "      <td>0</td>\n",
       "      <td>1</td>\n",
       "      <td>16884.92400</td>\n",
       "      <td>0</td>\n",
       "      <td>0</td>\n",
       "      <td>0</td>\n",
       "      <td>1</td>\n",
       "    </tr>\n",
       "    <tr>\n",
       "      <th>1</th>\n",
       "      <td>18</td>\n",
       "      <td>1</td>\n",
       "      <td>5.811196</td>\n",
       "      <td>1</td>\n",
       "      <td>0</td>\n",
       "      <td>1725.55230</td>\n",
       "      <td>0</td>\n",
       "      <td>0</td>\n",
       "      <td>1</td>\n",
       "      <td>0</td>\n",
       "    </tr>\n",
       "    <tr>\n",
       "      <th>2</th>\n",
       "      <td>28</td>\n",
       "      <td>1</td>\n",
       "      <td>5.744563</td>\n",
       "      <td>3</td>\n",
       "      <td>0</td>\n",
       "      <td>4449.46200</td>\n",
       "      <td>0</td>\n",
       "      <td>0</td>\n",
       "      <td>1</td>\n",
       "      <td>0</td>\n",
       "    </tr>\n",
       "    <tr>\n",
       "      <th>3</th>\n",
       "      <td>33</td>\n",
       "      <td>1</td>\n",
       "      <td>4.764976</td>\n",
       "      <td>0</td>\n",
       "      <td>0</td>\n",
       "      <td>21984.47061</td>\n",
       "      <td>0</td>\n",
       "      <td>1</td>\n",
       "      <td>0</td>\n",
       "      <td>0</td>\n",
       "    </tr>\n",
       "    <tr>\n",
       "      <th>4</th>\n",
       "      <td>32</td>\n",
       "      <td>1</td>\n",
       "      <td>5.374012</td>\n",
       "      <td>0</td>\n",
       "      <td>0</td>\n",
       "      <td>3866.85520</td>\n",
       "      <td>0</td>\n",
       "      <td>1</td>\n",
       "      <td>0</td>\n",
       "      <td>0</td>\n",
       "    </tr>\n",
       "    <tr>\n",
       "      <th>...</th>\n",
       "      <td>...</td>\n",
       "      <td>...</td>\n",
       "      <td>...</td>\n",
       "      <td>...</td>\n",
       "      <td>...</td>\n",
       "      <td>...</td>\n",
       "      <td>...</td>\n",
       "      <td>...</td>\n",
       "      <td>...</td>\n",
       "      <td>...</td>\n",
       "    </tr>\n",
       "    <tr>\n",
       "      <th>1333</th>\n",
       "      <td>50</td>\n",
       "      <td>1</td>\n",
       "      <td>5.565070</td>\n",
       "      <td>3</td>\n",
       "      <td>0</td>\n",
       "      <td>10600.54830</td>\n",
       "      <td>0</td>\n",
       "      <td>1</td>\n",
       "      <td>0</td>\n",
       "      <td>0</td>\n",
       "    </tr>\n",
       "    <tr>\n",
       "      <th>1334</th>\n",
       "      <td>18</td>\n",
       "      <td>0</td>\n",
       "      <td>5.649779</td>\n",
       "      <td>0</td>\n",
       "      <td>0</td>\n",
       "      <td>2205.98080</td>\n",
       "      <td>1</td>\n",
       "      <td>0</td>\n",
       "      <td>0</td>\n",
       "      <td>0</td>\n",
       "    </tr>\n",
       "    <tr>\n",
       "      <th>1335</th>\n",
       "      <td>18</td>\n",
       "      <td>0</td>\n",
       "      <td>6.070420</td>\n",
       "      <td>0</td>\n",
       "      <td>0</td>\n",
       "      <td>1629.83350</td>\n",
       "      <td>0</td>\n",
       "      <td>0</td>\n",
       "      <td>1</td>\n",
       "      <td>0</td>\n",
       "    </tr>\n",
       "    <tr>\n",
       "      <th>1336</th>\n",
       "      <td>21</td>\n",
       "      <td>0</td>\n",
       "      <td>5.079370</td>\n",
       "      <td>0</td>\n",
       "      <td>0</td>\n",
       "      <td>2007.94500</td>\n",
       "      <td>0</td>\n",
       "      <td>0</td>\n",
       "      <td>0</td>\n",
       "      <td>1</td>\n",
       "    </tr>\n",
       "    <tr>\n",
       "      <th>1337</th>\n",
       "      <td>61</td>\n",
       "      <td>0</td>\n",
       "      <td>5.391660</td>\n",
       "      <td>0</td>\n",
       "      <td>1</td>\n",
       "      <td>29141.36030</td>\n",
       "      <td>0</td>\n",
       "      <td>1</td>\n",
       "      <td>0</td>\n",
       "      <td>0</td>\n",
       "    </tr>\n",
       "  </tbody>\n",
       "</table>\n",
       "<p>1338 rows × 10 columns</p>\n",
       "</div>"
      ],
      "text/plain": [
       "      age  sex       bmi  children  smoker      charges  region_northeast  \\\n",
       "0      19    0  5.282045         0       1  16884.92400                 0   \n",
       "1      18    1  5.811196         1       0   1725.55230                 0   \n",
       "2      28    1  5.744563         3       0   4449.46200                 0   \n",
       "3      33    1  4.764976         0       0  21984.47061                 0   \n",
       "4      32    1  5.374012         0       0   3866.85520                 0   \n",
       "...   ...  ...       ...       ...     ...          ...               ...   \n",
       "1333   50    1  5.565070         3       0  10600.54830                 0   \n",
       "1334   18    0  5.649779         0       0   2205.98080                 1   \n",
       "1335   18    0  6.070420         0       0   1629.83350                 0   \n",
       "1336   21    0  5.079370         0       0   2007.94500                 0   \n",
       "1337   61    0  5.391660         0       1  29141.36030                 0   \n",
       "\n",
       "      region_northwest  region_southeast  region_southwest  \n",
       "0                    0                 0                 1  \n",
       "1                    0                 1                 0  \n",
       "2                    0                 1                 0  \n",
       "3                    1                 0                 0  \n",
       "4                    1                 0                 0  \n",
       "...                ...               ...               ...  \n",
       "1333                 1                 0                 0  \n",
       "1334                 0                 0                 0  \n",
       "1335                 0                 1                 0  \n",
       "1336                 0                 0                 1  \n",
       "1337                 1                 0                 0  \n",
       "\n",
       "[1338 rows x 10 columns]"
      ]
     },
     "execution_count": 57,
     "metadata": {},
     "output_type": "execute_result"
    }
   ],
   "source": [
    "df = pd.get_dummies(df, columns=['region'])\n",
    "df"
   ]
  },
  {
   "cell_type": "code",
   "execution_count": 58,
   "id": "adf61931",
   "metadata": {},
   "outputs": [
    {
     "name": "stdout",
     "output_type": "stream",
     "text": [
      "<class 'pandas.core.frame.DataFrame'>\n",
      "RangeIndex: 1338 entries, 0 to 1337\n",
      "Data columns (total 10 columns):\n",
      " #   Column            Non-Null Count  Dtype  \n",
      "---  ------            --------------  -----  \n",
      " 0   age               1338 non-null   int64  \n",
      " 1   sex               1338 non-null   int64  \n",
      " 2   bmi               1338 non-null   float64\n",
      " 3   children          1338 non-null   int64  \n",
      " 4   smoker            1338 non-null   int64  \n",
      " 5   charges           1338 non-null   float64\n",
      " 6   region_northeast  1338 non-null   uint8  \n",
      " 7   region_northwest  1338 non-null   uint8  \n",
      " 8   region_southeast  1338 non-null   uint8  \n",
      " 9   region_southwest  1338 non-null   uint8  \n",
      "dtypes: float64(2), int64(4), uint8(4)\n",
      "memory usage: 68.1 KB\n"
     ]
    }
   ],
   "source": [
    "df.info()"
   ]
  },
  {
   "cell_type": "markdown",
   "id": "cf0b771d",
   "metadata": {},
   "source": [
    "## Checking the Target column"
   ]
  },
  {
   "cell_type": "markdown",
   "id": "f3ff31ad",
   "metadata": {},
   "source": [
    "## Charges "
   ]
  },
  {
   "cell_type": "code",
   "execution_count": 59,
   "id": "18736eff",
   "metadata": {},
   "outputs": [
    {
     "data": {
      "text/plain": [
       "0"
      ]
     },
     "execution_count": 59,
     "metadata": {},
     "output_type": "execute_result"
    }
   ],
   "source": [
    "df[\"charges\"].isna().sum()"
   ]
  },
  {
   "cell_type": "code",
   "execution_count": 60,
   "id": "9f8b9c1d",
   "metadata": {},
   "outputs": [],
   "source": [
    "# Now whole data is numeric are ready of linear alogorithms"
   ]
  },
  {
   "cell_type": "markdown",
   "id": "7ff14abe",
   "metadata": {},
   "source": [
    "# 3. Feature Selection"
   ]
  },
  {
   "cell_type": "markdown",
   "id": "937bece4",
   "metadata": {},
   "source": [
    "## Checking the assumptions"
   ]
  },
  {
   "cell_type": "markdown",
   "id": "cc8c0293",
   "metadata": {},
   "source": [
    "### 1. Linearity "
   ]
  },
  {
   "cell_type": "code",
   "execution_count": 61,
   "id": "d2d1ee45",
   "metadata": {},
   "outputs": [
    {
     "data": {
      "text/html": [
       "<div>\n",
       "<style scoped>\n",
       "    .dataframe tbody tr th:only-of-type {\n",
       "        vertical-align: middle;\n",
       "    }\n",
       "\n",
       "    .dataframe tbody tr th {\n",
       "        vertical-align: top;\n",
       "    }\n",
       "\n",
       "    .dataframe thead th {\n",
       "        text-align: right;\n",
       "    }\n",
       "</style>\n",
       "<table border=\"1\" class=\"dataframe\">\n",
       "  <thead>\n",
       "    <tr style=\"text-align: right;\">\n",
       "      <th></th>\n",
       "      <th>age</th>\n",
       "      <th>sex</th>\n",
       "      <th>bmi</th>\n",
       "      <th>children</th>\n",
       "      <th>smoker</th>\n",
       "      <th>charges</th>\n",
       "      <th>region_northeast</th>\n",
       "      <th>region_northwest</th>\n",
       "      <th>region_southeast</th>\n",
       "      <th>region_southwest</th>\n",
       "    </tr>\n",
       "  </thead>\n",
       "  <tbody>\n",
       "    <tr>\n",
       "      <th>age</th>\n",
       "      <td>1.000000</td>\n",
       "      <td>-0.020856</td>\n",
       "      <td>0.123272</td>\n",
       "      <td>0.042469</td>\n",
       "      <td>-0.025019</td>\n",
       "      <td>0.299008</td>\n",
       "      <td>0.002475</td>\n",
       "      <td>-0.000407</td>\n",
       "      <td>-0.011642</td>\n",
       "      <td>0.010016</td>\n",
       "    </tr>\n",
       "    <tr>\n",
       "      <th>sex</th>\n",
       "      <td>-0.020856</td>\n",
       "      <td>1.000000</td>\n",
       "      <td>0.039876</td>\n",
       "      <td>0.017163</td>\n",
       "      <td>0.076185</td>\n",
       "      <td>0.057292</td>\n",
       "      <td>-0.002425</td>\n",
       "      <td>-0.011156</td>\n",
       "      <td>0.017117</td>\n",
       "      <td>-0.004184</td>\n",
       "    </tr>\n",
       "    <tr>\n",
       "      <th>bmi</th>\n",
       "      <td>0.123272</td>\n",
       "      <td>0.039876</td>\n",
       "      <td>1.000000</td>\n",
       "      <td>0.015627</td>\n",
       "      <td>-0.000283</td>\n",
       "      <td>0.199785</td>\n",
       "      <td>-0.137833</td>\n",
       "      <td>-0.128462</td>\n",
       "      <td>0.255387</td>\n",
       "      <td>0.001128</td>\n",
       "    </tr>\n",
       "    <tr>\n",
       "      <th>children</th>\n",
       "      <td>0.042469</td>\n",
       "      <td>0.017163</td>\n",
       "      <td>0.015627</td>\n",
       "      <td>1.000000</td>\n",
       "      <td>0.007673</td>\n",
       "      <td>0.067998</td>\n",
       "      <td>-0.022808</td>\n",
       "      <td>0.024806</td>\n",
       "      <td>-0.023066</td>\n",
       "      <td>0.021914</td>\n",
       "    </tr>\n",
       "    <tr>\n",
       "      <th>smoker</th>\n",
       "      <td>-0.025019</td>\n",
       "      <td>0.076185</td>\n",
       "      <td>-0.000283</td>\n",
       "      <td>0.007673</td>\n",
       "      <td>1.000000</td>\n",
       "      <td>0.787251</td>\n",
       "      <td>0.002811</td>\n",
       "      <td>-0.036945</td>\n",
       "      <td>0.068498</td>\n",
       "      <td>-0.036945</td>\n",
       "    </tr>\n",
       "    <tr>\n",
       "      <th>charges</th>\n",
       "      <td>0.299008</td>\n",
       "      <td>0.057292</td>\n",
       "      <td>0.199785</td>\n",
       "      <td>0.067998</td>\n",
       "      <td>0.787251</td>\n",
       "      <td>1.000000</td>\n",
       "      <td>0.006349</td>\n",
       "      <td>-0.039905</td>\n",
       "      <td>0.073982</td>\n",
       "      <td>-0.043210</td>\n",
       "    </tr>\n",
       "    <tr>\n",
       "      <th>region_northeast</th>\n",
       "      <td>0.002475</td>\n",
       "      <td>-0.002425</td>\n",
       "      <td>-0.137833</td>\n",
       "      <td>-0.022808</td>\n",
       "      <td>0.002811</td>\n",
       "      <td>0.006349</td>\n",
       "      <td>1.000000</td>\n",
       "      <td>-0.320177</td>\n",
       "      <td>-0.345561</td>\n",
       "      <td>-0.320177</td>\n",
       "    </tr>\n",
       "    <tr>\n",
       "      <th>region_northwest</th>\n",
       "      <td>-0.000407</td>\n",
       "      <td>-0.011156</td>\n",
       "      <td>-0.128462</td>\n",
       "      <td>0.024806</td>\n",
       "      <td>-0.036945</td>\n",
       "      <td>-0.039905</td>\n",
       "      <td>-0.320177</td>\n",
       "      <td>1.000000</td>\n",
       "      <td>-0.346265</td>\n",
       "      <td>-0.320829</td>\n",
       "    </tr>\n",
       "    <tr>\n",
       "      <th>region_southeast</th>\n",
       "      <td>-0.011642</td>\n",
       "      <td>0.017117</td>\n",
       "      <td>0.255387</td>\n",
       "      <td>-0.023066</td>\n",
       "      <td>0.068498</td>\n",
       "      <td>0.073982</td>\n",
       "      <td>-0.345561</td>\n",
       "      <td>-0.346265</td>\n",
       "      <td>1.000000</td>\n",
       "      <td>-0.346265</td>\n",
       "    </tr>\n",
       "    <tr>\n",
       "      <th>region_southwest</th>\n",
       "      <td>0.010016</td>\n",
       "      <td>-0.004184</td>\n",
       "      <td>0.001128</td>\n",
       "      <td>0.021914</td>\n",
       "      <td>-0.036945</td>\n",
       "      <td>-0.043210</td>\n",
       "      <td>-0.320177</td>\n",
       "      <td>-0.320829</td>\n",
       "      <td>-0.346265</td>\n",
       "      <td>1.000000</td>\n",
       "    </tr>\n",
       "  </tbody>\n",
       "</table>\n",
       "</div>"
      ],
      "text/plain": [
       "                       age       sex       bmi  children    smoker   charges  \\\n",
       "age               1.000000 -0.020856  0.123272  0.042469 -0.025019  0.299008   \n",
       "sex              -0.020856  1.000000  0.039876  0.017163  0.076185  0.057292   \n",
       "bmi               0.123272  0.039876  1.000000  0.015627 -0.000283  0.199785   \n",
       "children          0.042469  0.017163  0.015627  1.000000  0.007673  0.067998   \n",
       "smoker           -0.025019  0.076185 -0.000283  0.007673  1.000000  0.787251   \n",
       "charges           0.299008  0.057292  0.199785  0.067998  0.787251  1.000000   \n",
       "region_northeast  0.002475 -0.002425 -0.137833 -0.022808  0.002811  0.006349   \n",
       "region_northwest -0.000407 -0.011156 -0.128462  0.024806 -0.036945 -0.039905   \n",
       "region_southeast -0.011642  0.017117  0.255387 -0.023066  0.068498  0.073982   \n",
       "region_southwest  0.010016 -0.004184  0.001128  0.021914 -0.036945 -0.043210   \n",
       "\n",
       "                  region_northeast  region_northwest  region_southeast  \\\n",
       "age                       0.002475         -0.000407         -0.011642   \n",
       "sex                      -0.002425         -0.011156          0.017117   \n",
       "bmi                      -0.137833         -0.128462          0.255387   \n",
       "children                 -0.022808          0.024806         -0.023066   \n",
       "smoker                    0.002811         -0.036945          0.068498   \n",
       "charges                   0.006349         -0.039905          0.073982   \n",
       "region_northeast          1.000000         -0.320177         -0.345561   \n",
       "region_northwest         -0.320177          1.000000         -0.346265   \n",
       "region_southeast         -0.345561         -0.346265          1.000000   \n",
       "region_southwest         -0.320177         -0.320829         -0.346265   \n",
       "\n",
       "                  region_southwest  \n",
       "age                       0.010016  \n",
       "sex                      -0.004184  \n",
       "bmi                       0.001128  \n",
       "children                  0.021914  \n",
       "smoker                   -0.036945  \n",
       "charges                  -0.043210  \n",
       "region_northeast         -0.320177  \n",
       "region_northwest         -0.320829  \n",
       "region_southeast         -0.346265  \n",
       "region_southwest          1.000000  "
      ]
     },
     "execution_count": 61,
     "metadata": {},
     "output_type": "execute_result"
    }
   ],
   "source": [
    "corr = df.corr()\n",
    "corr"
   ]
  },
  {
   "cell_type": "code",
   "execution_count": 62,
   "id": "9f7a6602",
   "metadata": {},
   "outputs": [
    {
     "data": {
      "text/plain": [
       "<AxesSubplot:>"
      ]
     },
     "execution_count": 62,
     "metadata": {},
     "output_type": "execute_result"
    },
    {
     "data": {
      "image/png": "[encoded data removed]",
      "text/plain": [
       "<Figure size 640x480 with 2 Axes>"
      ]
     },
     "metadata": {},
     "output_type": "display_data"
    }
   ],
   "source": [
    "sns.heatmap(corr[[\"charges\"]], annot = True)"
   ]
  },
  {
   "cell_type": "code",
   "execution_count": 63,
   "id": "c40aa956",
   "metadata": {},
   "outputs": [],
   "source": [
    "# Conclusion"
   ]
  },
  {
   "cell_type": "markdown",
   "id": "d1a53b71",
   "metadata": {},
   "source": [
    "### 2. No Multi Colinearity "
   ]
  },
  {
   "cell_type": "code",
   "execution_count": 64,
   "id": "be3a21d0",
   "metadata": {},
   "outputs": [
    {
     "data": {
      "text/plain": [
       "<AxesSubplot:>"
      ]
     },
     "execution_count": 64,
     "metadata": {},
     "output_type": "execute_result"
    },
    {
     "data": {
      "image/png": "[encoded data removed]",
      "text/plain": [
       "<Figure size 640x480 with 1 Axes>"
      ]
     },
     "metadata": {},
     "output_type": "display_data"
    }
   ],
   "source": [
    "vif_list = []\n",
    "\n",
    "for i in range(df.shape[1]):\n",
    "    vif = variance_inflation_factor(df.to_numpy(),i)\n",
    "    vif_list.append(vif)\n",
    "    \n",
    "s1 = pd.Series(vif_list, index=df.columns)\n",
    "s1.sort_values().plot(kind = 'barh')"
   ]
  },
  {
   "cell_type": "code",
   "execution_count": 65,
   "id": "a690812f",
   "metadata": {},
   "outputs": [],
   "source": [
    "# Vif values are less than 5 for each feature\n",
    "# We can see that all the features are not multi colinear"
   ]
  },
  {
   "cell_type": "code",
   "execution_count": null,
   "id": "a01027ed",
   "metadata": {},
   "outputs": [],
   "source": []
  },
  {
   "cell_type": "markdown",
   "id": "72dc2c6c",
   "metadata": {},
   "source": [
    "# 4 Model Building"
   ]
  },
  {
   "cell_type": "code",
   "execution_count": 66,
   "id": "e8771e23",
   "metadata": {},
   "outputs": [],
   "source": [
    "# Splitting the data"
   ]
  },
  {
   "cell_type": "code",
   "execution_count": 67,
   "id": "3ebd9e4b",
   "metadata": {},
   "outputs": [
    {
     "data": {
      "text/html": [
       "<div>\n",
       "<style scoped>\n",
       "    .dataframe tbody tr th:only-of-type {\n",
       "        vertical-align: middle;\n",
       "    }\n",
       "\n",
       "    .dataframe tbody tr th {\n",
       "        vertical-align: top;\n",
       "    }\n",
       "\n",
       "    .dataframe thead th {\n",
       "        text-align: right;\n",
       "    }\n",
       "</style>\n",
       "<table border=\"1\" class=\"dataframe\">\n",
       "  <thead>\n",
       "    <tr style=\"text-align: right;\">\n",
       "      <th></th>\n",
       "      <th>age</th>\n",
       "      <th>sex</th>\n",
       "      <th>bmi</th>\n",
       "      <th>children</th>\n",
       "      <th>smoker</th>\n",
       "      <th>region_northeast</th>\n",
       "      <th>region_northwest</th>\n",
       "      <th>region_southeast</th>\n",
       "      <th>region_southwest</th>\n",
       "    </tr>\n",
       "  </thead>\n",
       "  <tbody>\n",
       "    <tr>\n",
       "      <th>0</th>\n",
       "      <td>19</td>\n",
       "      <td>0</td>\n",
       "      <td>5.282045</td>\n",
       "      <td>0</td>\n",
       "      <td>1</td>\n",
       "      <td>0</td>\n",
       "      <td>0</td>\n",
       "      <td>0</td>\n",
       "      <td>1</td>\n",
       "    </tr>\n",
       "    <tr>\n",
       "      <th>1</th>\n",
       "      <td>18</td>\n",
       "      <td>1</td>\n",
       "      <td>5.811196</td>\n",
       "      <td>1</td>\n",
       "      <td>0</td>\n",
       "      <td>0</td>\n",
       "      <td>0</td>\n",
       "      <td>1</td>\n",
       "      <td>0</td>\n",
       "    </tr>\n",
       "    <tr>\n",
       "      <th>2</th>\n",
       "      <td>28</td>\n",
       "      <td>1</td>\n",
       "      <td>5.744563</td>\n",
       "      <td>3</td>\n",
       "      <td>0</td>\n",
       "      <td>0</td>\n",
       "      <td>0</td>\n",
       "      <td>1</td>\n",
       "      <td>0</td>\n",
       "    </tr>\n",
       "    <tr>\n",
       "      <th>3</th>\n",
       "      <td>33</td>\n",
       "      <td>1</td>\n",
       "      <td>4.764976</td>\n",
       "      <td>0</td>\n",
       "      <td>0</td>\n",
       "      <td>0</td>\n",
       "      <td>1</td>\n",
       "      <td>0</td>\n",
       "      <td>0</td>\n",
       "    </tr>\n",
       "    <tr>\n",
       "      <th>4</th>\n",
       "      <td>32</td>\n",
       "      <td>1</td>\n",
       "      <td>5.374012</td>\n",
       "      <td>0</td>\n",
       "      <td>0</td>\n",
       "      <td>0</td>\n",
       "      <td>1</td>\n",
       "      <td>0</td>\n",
       "      <td>0</td>\n",
       "    </tr>\n",
       "    <tr>\n",
       "      <th>...</th>\n",
       "      <td>...</td>\n",
       "      <td>...</td>\n",
       "      <td>...</td>\n",
       "      <td>...</td>\n",
       "      <td>...</td>\n",
       "      <td>...</td>\n",
       "      <td>...</td>\n",
       "      <td>...</td>\n",
       "      <td>...</td>\n",
       "    </tr>\n",
       "    <tr>\n",
       "      <th>1333</th>\n",
       "      <td>50</td>\n",
       "      <td>1</td>\n",
       "      <td>5.565070</td>\n",
       "      <td>3</td>\n",
       "      <td>0</td>\n",
       "      <td>0</td>\n",
       "      <td>1</td>\n",
       "      <td>0</td>\n",
       "      <td>0</td>\n",
       "    </tr>\n",
       "    <tr>\n",
       "      <th>1334</th>\n",
       "      <td>18</td>\n",
       "      <td>0</td>\n",
       "      <td>5.649779</td>\n",
       "      <td>0</td>\n",
       "      <td>0</td>\n",
       "      <td>1</td>\n",
       "      <td>0</td>\n",
       "      <td>0</td>\n",
       "      <td>0</td>\n",
       "    </tr>\n",
       "    <tr>\n",
       "      <th>1335</th>\n",
       "      <td>18</td>\n",
       "      <td>0</td>\n",
       "      <td>6.070420</td>\n",
       "      <td>0</td>\n",
       "      <td>0</td>\n",
       "      <td>0</td>\n",
       "      <td>0</td>\n",
       "      <td>1</td>\n",
       "      <td>0</td>\n",
       "    </tr>\n",
       "    <tr>\n",
       "      <th>1336</th>\n",
       "      <td>21</td>\n",
       "      <td>0</td>\n",
       "      <td>5.079370</td>\n",
       "      <td>0</td>\n",
       "      <td>0</td>\n",
       "      <td>0</td>\n",
       "      <td>0</td>\n",
       "      <td>0</td>\n",
       "      <td>1</td>\n",
       "    </tr>\n",
       "    <tr>\n",
       "      <th>1337</th>\n",
       "      <td>61</td>\n",
       "      <td>0</td>\n",
       "      <td>5.391660</td>\n",
       "      <td>0</td>\n",
       "      <td>1</td>\n",
       "      <td>0</td>\n",
       "      <td>1</td>\n",
       "      <td>0</td>\n",
       "      <td>0</td>\n",
       "    </tr>\n",
       "  </tbody>\n",
       "</table>\n",
       "<p>1338 rows × 9 columns</p>\n",
       "</div>"
      ],
      "text/plain": [
       "      age  sex       bmi  children  smoker  region_northeast  \\\n",
       "0      19    0  5.282045         0       1                 0   \n",
       "1      18    1  5.811196         1       0                 0   \n",
       "2      28    1  5.744563         3       0                 0   \n",
       "3      33    1  4.764976         0       0                 0   \n",
       "4      32    1  5.374012         0       0                 0   \n",
       "...   ...  ...       ...       ...     ...               ...   \n",
       "1333   50    1  5.565070         3       0                 0   \n",
       "1334   18    0  5.649779         0       0                 1   \n",
       "1335   18    0  6.070420         0       0                 0   \n",
       "1336   21    0  5.079370         0       0                 0   \n",
       "1337   61    0  5.391660         0       1                 0   \n",
       "\n",
       "      region_northwest  region_southeast  region_southwest  \n",
       "0                    0                 0                 1  \n",
       "1                    0                 1                 0  \n",
       "2                    0                 1                 0  \n",
       "3                    1                 0                 0  \n",
       "4                    1                 0                 0  \n",
       "...                ...               ...               ...  \n",
       "1333                 1                 0                 0  \n",
       "1334                 0                 0                 0  \n",
       "1335                 0                 1                 0  \n",
       "1336                 0                 0                 1  \n",
       "1337                 1                 0                 0  \n",
       "\n",
       "[1338 rows x 9 columns]"
      ]
     },
     "execution_count": 67,
     "metadata": {},
     "output_type": "execute_result"
    }
   ],
   "source": [
    "x = df.drop(\"charges\", axis = 1) \n",
    "x"
   ]
  },
  {
   "cell_type": "code",
   "execution_count": 68,
   "id": "9a35c630",
   "metadata": {},
   "outputs": [
    {
     "data": {
      "text/plain": [
       "0       16884.92400\n",
       "1        1725.55230\n",
       "2        4449.46200\n",
       "3       21984.47061\n",
       "4        3866.85520\n",
       "           ...     \n",
       "1333    10600.54830\n",
       "1334     2205.98080\n",
       "1335     1629.83350\n",
       "1336     2007.94500\n",
       "1337    29141.36030\n",
       "Name: charges, Length: 1338, dtype: float64"
      ]
     },
     "execution_count": 68,
     "metadata": {},
     "output_type": "execute_result"
    }
   ],
   "source": [
    "y = df[\"charges\"]\n",
    "y"
   ]
  },
  {
   "cell_type": "code",
   "execution_count": 69,
   "id": "dc4fc97b",
   "metadata": {},
   "outputs": [
    {
     "data": {
      "text/html": [
       "<div>\n",
       "<style scoped>\n",
       "    .dataframe tbody tr th:only-of-type {\n",
       "        vertical-align: middle;\n",
       "    }\n",
       "\n",
       "    .dataframe tbody tr th {\n",
       "        vertical-align: top;\n",
       "    }\n",
       "\n",
       "    .dataframe thead th {\n",
       "        text-align: right;\n",
       "    }\n",
       "</style>\n",
       "<table border=\"1\" class=\"dataframe\">\n",
       "  <thead>\n",
       "    <tr style=\"text-align: right;\">\n",
       "      <th></th>\n",
       "      <th>age</th>\n",
       "      <th>sex</th>\n",
       "      <th>bmi</th>\n",
       "      <th>children</th>\n",
       "      <th>smoker</th>\n",
       "      <th>region_northeast</th>\n",
       "      <th>region_northwest</th>\n",
       "      <th>region_southeast</th>\n",
       "      <th>region_southwest</th>\n",
       "    </tr>\n",
       "  </thead>\n",
       "  <tbody>\n",
       "    <tr>\n",
       "      <th>655</th>\n",
       "      <td>52</td>\n",
       "      <td>0</td>\n",
       "      <td>5.029911</td>\n",
       "      <td>2</td>\n",
       "      <td>1</td>\n",
       "      <td>0</td>\n",
       "      <td>0</td>\n",
       "      <td>1</td>\n",
       "      <td>0</td>\n",
       "    </tr>\n",
       "    <tr>\n",
       "      <th>516</th>\n",
       "      <td>20</td>\n",
       "      <td>1</td>\n",
       "      <td>5.942222</td>\n",
       "      <td>1</td>\n",
       "      <td>0</td>\n",
       "      <td>0</td>\n",
       "      <td>0</td>\n",
       "      <td>1</td>\n",
       "      <td>0</td>\n",
       "    </tr>\n",
       "    <tr>\n",
       "      <th>226</th>\n",
       "      <td>28</td>\n",
       "      <td>1</td>\n",
       "      <td>6.169279</td>\n",
       "      <td>0</td>\n",
       "      <td>0</td>\n",
       "      <td>0</td>\n",
       "      <td>0</td>\n",
       "      <td>1</td>\n",
       "      <td>0</td>\n",
       "    </tr>\n",
       "    <tr>\n",
       "      <th>149</th>\n",
       "      <td>19</td>\n",
       "      <td>1</td>\n",
       "      <td>5.329165</td>\n",
       "      <td>1</td>\n",
       "      <td>0</td>\n",
       "      <td>0</td>\n",
       "      <td>0</td>\n",
       "      <td>0</td>\n",
       "      <td>1</td>\n",
       "    </tr>\n",
       "    <tr>\n",
       "      <th>11</th>\n",
       "      <td>62</td>\n",
       "      <td>0</td>\n",
       "      <td>5.127377</td>\n",
       "      <td>0</td>\n",
       "      <td>1</td>\n",
       "      <td>0</td>\n",
       "      <td>0</td>\n",
       "      <td>1</td>\n",
       "      <td>0</td>\n",
       "    </tr>\n",
       "    <tr>\n",
       "      <th>...</th>\n",
       "      <td>...</td>\n",
       "      <td>...</td>\n",
       "      <td>...</td>\n",
       "      <td>...</td>\n",
       "      <td>...</td>\n",
       "      <td>...</td>\n",
       "      <td>...</td>\n",
       "      <td>...</td>\n",
       "      <td>...</td>\n",
       "    </tr>\n",
       "    <tr>\n",
       "      <th>454</th>\n",
       "      <td>32</td>\n",
       "      <td>1</td>\n",
       "      <td>6.821290</td>\n",
       "      <td>2</td>\n",
       "      <td>0</td>\n",
       "      <td>0</td>\n",
       "      <td>0</td>\n",
       "      <td>1</td>\n",
       "      <td>0</td>\n",
       "    </tr>\n",
       "    <tr>\n",
       "      <th>966</th>\n",
       "      <td>51</td>\n",
       "      <td>1</td>\n",
       "      <td>4.979458</td>\n",
       "      <td>2</td>\n",
       "      <td>1</td>\n",
       "      <td>0</td>\n",
       "      <td>1</td>\n",
       "      <td>0</td>\n",
       "      <td>0</td>\n",
       "    </tr>\n",
       "    <tr>\n",
       "      <th>944</th>\n",
       "      <td>62</td>\n",
       "      <td>1</td>\n",
       "      <td>6.319019</td>\n",
       "      <td>0</td>\n",
       "      <td>0</td>\n",
       "      <td>0</td>\n",
       "      <td>0</td>\n",
       "      <td>1</td>\n",
       "      <td>0</td>\n",
       "    </tr>\n",
       "    <tr>\n",
       "      <th>347</th>\n",
       "      <td>46</td>\n",
       "      <td>1</td>\n",
       "      <td>5.774513</td>\n",
       "      <td>1</td>\n",
       "      <td>0</td>\n",
       "      <td>1</td>\n",
       "      <td>0</td>\n",
       "      <td>0</td>\n",
       "      <td>0</td>\n",
       "    </tr>\n",
       "    <tr>\n",
       "      <th>563</th>\n",
       "      <td>50</td>\n",
       "      <td>1</td>\n",
       "      <td>6.691039</td>\n",
       "      <td>1</td>\n",
       "      <td>0</td>\n",
       "      <td>0</td>\n",
       "      <td>0</td>\n",
       "      <td>1</td>\n",
       "      <td>0</td>\n",
       "    </tr>\n",
       "  </tbody>\n",
       "</table>\n",
       "<p>1070 rows × 9 columns</p>\n",
       "</div>"
      ],
      "text/plain": [
       "     age  sex       bmi  children  smoker  region_northeast  region_northwest  \\\n",
       "655   52    0  5.029911         2       1                 0                 0   \n",
       "516   20    1  5.942222         1       0                 0                 0   \n",
       "226   28    1  6.169279         0       0                 0                 0   \n",
       "149   19    1  5.329165         1       0                 0                 0   \n",
       "11    62    0  5.127377         0       1                 0                 0   \n",
       "..   ...  ...       ...       ...     ...               ...               ...   \n",
       "454   32    1  6.821290         2       0                 0                 0   \n",
       "966   51    1  4.979458         2       1                 0                 1   \n",
       "944   62    1  6.319019         0       0                 0                 0   \n",
       "347   46    1  5.774513         1       0                 1                 0   \n",
       "563   50    1  6.691039         1       0                 0                 0   \n",
       "\n",
       "     region_southeast  region_southwest  \n",
       "655                 1                 0  \n",
       "516                 1                 0  \n",
       "226                 1                 0  \n",
       "149                 0                 1  \n",
       "11                  1                 0  \n",
       "..                ...               ...  \n",
       "454                 1                 0  \n",
       "966                 0                 0  \n",
       "944                 1                 0  \n",
       "347                 0                 0  \n",
       "563                 1                 0  \n",
       "\n",
       "[1070 rows x 9 columns]"
      ]
     },
     "execution_count": 69,
     "metadata": {},
     "output_type": "execute_result"
    }
   ],
   "source": [
    "x_train, x_test, y_train, y_test = train_test_split(x,y, test_size=.2 ,random_state=48)\n",
    "x_train\n"
   ]
  },
  {
   "cell_type": "code",
   "execution_count": 70,
   "id": "9383891b",
   "metadata": {},
   "outputs": [
    {
     "data": {
      "text/html": [
       "<div>\n",
       "<style scoped>\n",
       "    .dataframe tbody tr th:only-of-type {\n",
       "        vertical-align: middle;\n",
       "    }\n",
       "\n",
       "    .dataframe tbody tr th {\n",
       "        vertical-align: top;\n",
       "    }\n",
       "\n",
       "    .dataframe thead th {\n",
       "        text-align: right;\n",
       "    }\n",
       "</style>\n",
       "<table border=\"1\" class=\"dataframe\">\n",
       "  <thead>\n",
       "    <tr style=\"text-align: right;\">\n",
       "      <th></th>\n",
       "      <th>age</th>\n",
       "      <th>sex</th>\n",
       "      <th>bmi</th>\n",
       "      <th>children</th>\n",
       "      <th>smoker</th>\n",
       "      <th>region_northeast</th>\n",
       "      <th>region_northwest</th>\n",
       "      <th>region_southeast</th>\n",
       "      <th>region_southwest</th>\n",
       "    </tr>\n",
       "  </thead>\n",
       "  <tbody>\n",
       "    <tr>\n",
       "      <th>451</th>\n",
       "      <td>30</td>\n",
       "      <td>1</td>\n",
       "      <td>4.912230</td>\n",
       "      <td>1</td>\n",
       "      <td>0</td>\n",
       "      <td>0</td>\n",
       "      <td>1</td>\n",
       "      <td>0</td>\n",
       "      <td>0</td>\n",
       "    </tr>\n",
       "    <tr>\n",
       "      <th>1174</th>\n",
       "      <td>29</td>\n",
       "      <td>1</td>\n",
       "      <td>5.666569</td>\n",
       "      <td>2</td>\n",
       "      <td>0</td>\n",
       "      <td>0</td>\n",
       "      <td>1</td>\n",
       "      <td>0</td>\n",
       "      <td>0</td>\n",
       "    </tr>\n",
       "    <tr>\n",
       "      <th>213</th>\n",
       "      <td>34</td>\n",
       "      <td>0</td>\n",
       "      <td>5.170106</td>\n",
       "      <td>1</td>\n",
       "      <td>0</td>\n",
       "      <td>0</td>\n",
       "      <td>0</td>\n",
       "      <td>1</td>\n",
       "      <td>0</td>\n",
       "    </tr>\n",
       "    <tr>\n",
       "      <th>174</th>\n",
       "      <td>24</td>\n",
       "      <td>0</td>\n",
       "      <td>5.774513</td>\n",
       "      <td>0</td>\n",
       "      <td>0</td>\n",
       "      <td>0</td>\n",
       "      <td>1</td>\n",
       "      <td>0</td>\n",
       "      <td>0</td>\n",
       "    </tr>\n",
       "    <tr>\n",
       "      <th>648</th>\n",
       "      <td>18</td>\n",
       "      <td>1</td>\n",
       "      <td>5.338539</td>\n",
       "      <td>0</td>\n",
       "      <td>0</td>\n",
       "      <td>1</td>\n",
       "      <td>0</td>\n",
       "      <td>0</td>\n",
       "      <td>0</td>\n",
       "    </tr>\n",
       "    <tr>\n",
       "      <th>...</th>\n",
       "      <td>...</td>\n",
       "      <td>...</td>\n",
       "      <td>...</td>\n",
       "      <td>...</td>\n",
       "      <td>...</td>\n",
       "      <td>...</td>\n",
       "      <td>...</td>\n",
       "      <td>...</td>\n",
       "      <td>...</td>\n",
       "    </tr>\n",
       "    <tr>\n",
       "      <th>42</th>\n",
       "      <td>41</td>\n",
       "      <td>1</td>\n",
       "      <td>4.666905</td>\n",
       "      <td>1</td>\n",
       "      <td>0</td>\n",
       "      <td>0</td>\n",
       "      <td>0</td>\n",
       "      <td>1</td>\n",
       "      <td>0</td>\n",
       "    </tr>\n",
       "    <tr>\n",
       "      <th>782</th>\n",
       "      <td>51</td>\n",
       "      <td>1</td>\n",
       "      <td>5.997499</td>\n",
       "      <td>1</td>\n",
       "      <td>0</td>\n",
       "      <td>0</td>\n",
       "      <td>0</td>\n",
       "      <td>1</td>\n",
       "      <td>0</td>\n",
       "    </tr>\n",
       "    <tr>\n",
       "      <th>859</th>\n",
       "      <td>57</td>\n",
       "      <td>1</td>\n",
       "      <td>5.300943</td>\n",
       "      <td>0</td>\n",
       "      <td>0</td>\n",
       "      <td>0</td>\n",
       "      <td>0</td>\n",
       "      <td>0</td>\n",
       "      <td>1</td>\n",
       "    </tr>\n",
       "    <tr>\n",
       "      <th>1260</th>\n",
       "      <td>32</td>\n",
       "      <td>0</td>\n",
       "      <td>4.529901</td>\n",
       "      <td>0</td>\n",
       "      <td>0</td>\n",
       "      <td>1</td>\n",
       "      <td>0</td>\n",
       "      <td>0</td>\n",
       "      <td>0</td>\n",
       "    </tr>\n",
       "    <tr>\n",
       "      <th>1224</th>\n",
       "      <td>41</td>\n",
       "      <td>1</td>\n",
       "      <td>4.892852</td>\n",
       "      <td>1</td>\n",
       "      <td>0</td>\n",
       "      <td>1</td>\n",
       "      <td>0</td>\n",
       "      <td>0</td>\n",
       "      <td>0</td>\n",
       "    </tr>\n",
       "  </tbody>\n",
       "</table>\n",
       "<p>268 rows × 9 columns</p>\n",
       "</div>"
      ],
      "text/plain": [
       "      age  sex       bmi  children  smoker  region_northeast  \\\n",
       "451    30    1  4.912230         1       0                 0   \n",
       "1174   29    1  5.666569         2       0                 0   \n",
       "213    34    0  5.170106         1       0                 0   \n",
       "174    24    0  5.774513         0       0                 0   \n",
       "648    18    1  5.338539         0       0                 1   \n",
       "...   ...  ...       ...       ...     ...               ...   \n",
       "42     41    1  4.666905         1       0                 0   \n",
       "782    51    1  5.997499         1       0                 0   \n",
       "859    57    1  5.300943         0       0                 0   \n",
       "1260   32    0  4.529901         0       0                 1   \n",
       "1224   41    1  4.892852         1       0                 1   \n",
       "\n",
       "      region_northwest  region_southeast  region_southwest  \n",
       "451                  1                 0                 0  \n",
       "1174                 1                 0                 0  \n",
       "213                  0                 1                 0  \n",
       "174                  1                 0                 0  \n",
       "648                  0                 0                 0  \n",
       "...                ...               ...               ...  \n",
       "42                   0                 1                 0  \n",
       "782                  0                 1                 0  \n",
       "859                  0                 0                 1  \n",
       "1260                 0                 0                 0  \n",
       "1224                 0                 0                 0  \n",
       "\n",
       "[268 rows x 9 columns]"
      ]
     },
     "execution_count": 70,
     "metadata": {},
     "output_type": "execute_result"
    }
   ],
   "source": [
    "x_test"
   ]
  },
  {
   "cell_type": "code",
   "execution_count": 71,
   "id": "f6fe5a7c",
   "metadata": {},
   "outputs": [
    {
     "data": {
      "text/plain": [
       "655    24667.41900\n",
       "516    27724.28875\n",
       "226     2689.49540\n",
       "149     1842.51900\n",
       "11     27808.72510\n",
       "          ...     \n",
       "454     4686.38870\n",
       "966    23967.38305\n",
       "944    12982.87470\n",
       "347     8334.45755\n",
       "563     9058.73030\n",
       "Name: charges, Length: 1070, dtype: float64"
      ]
     },
     "metadata": {},
     "output_type": "display_data"
    },
    {
     "data": {
      "text/plain": [
       "451      4032.24070\n",
       "1174     4433.91590\n",
       "213      5002.78270\n",
       "174      2855.43755\n",
       "648      1712.22700\n",
       "           ...     \n",
       "42       6272.47720\n",
       "782      9386.16130\n",
       "859     10965.44600\n",
       "1260     4544.23480\n",
       "1224     6858.47960\n",
       "Name: charges, Length: 268, dtype: float64"
      ]
     },
     "metadata": {},
     "output_type": "display_data"
    }
   ],
   "source": [
    "display(y_train,y_test)"
   ]
  },
  {
   "cell_type": "code",
   "execution_count": 72,
   "id": "e41b70d0",
   "metadata": {},
   "outputs": [],
   "source": [
    "Lin_model = LinearRegression()"
   ]
  },
  {
   "cell_type": "code",
   "execution_count": 73,
   "id": "659a22ae",
   "metadata": {},
   "outputs": [
    {
     "data": {
      "text/plain": [
       "LinearRegression()"
      ]
     },
     "execution_count": 73,
     "metadata": {},
     "output_type": "execute_result"
    }
   ],
   "source": [
    "Lin_model.fit(x_train,y_train)"
   ]
  },
  {
   "cell_type": "markdown",
   "id": "0e2ab8a2",
   "metadata": {},
   "source": [
    "# Model Evaluation"
   ]
  },
  {
   "cell_type": "code",
   "execution_count": 74,
   "id": "61fee688",
   "metadata": {},
   "outputs": [
    {
     "name": "stdout",
     "output_type": "stream",
     "text": [
      "Mean Sqaured Error : 41227805.39466487\n",
      "Root Mean Sqaured Error : 6420.888209170509\n",
      "Mean Absolute Error : 4445.348102199003\n",
      "R Squared Value : 0.7464426208244624\n",
      "Direct R Squared Value : 0.7464426208244624\n",
      "Adjusted R Squared Value : 0.7375975959695018\n"
     ]
    }
   ],
   "source": [
    "# Testing\n",
    "\n",
    "y_pred = Lin_model.predict(x_test)\n",
    "\n",
    "mse = mean_squared_error(y_test, y_pred)\n",
    "print(\"Mean Sqaured Error :\",mse)\n",
    "\n",
    "rmse = np.sqrt(mse)\n",
    "print(\"Root Mean Sqaured Error :\",rmse)\n",
    "\n",
    "mae = mean_absolute_error(y_test, y_pred)\n",
    "print(\"Mean Absolute Error :\",mae)\n",
    "\n",
    "r_squared_value = r2_score(y_test, y_pred)\n",
    "print(\"R Squared Value :\",r_squared_value)\n",
    "\n",
    "r2 =  Lin_model.score(x_test, y_test)\n",
    "print(\"Direct R Squared Value :\",r2)\n",
    "\n",
    "adj_r2  = 1 - (((1 - r_squared_value) * (x_test.shape[0] - 1)) / (x_test.shape[0] - x_test.shape[1] - 1))\n",
    "print(\"Adjusted R Squared Value :\",adj_r2)"
   ]
  },
  {
   "cell_type": "code",
   "execution_count": 75,
   "id": "7851430d",
   "metadata": {},
   "outputs": [
    {
     "name": "stdout",
     "output_type": "stream",
     "text": [
      "Mean Sqaured Error : 35524056.7726622\n",
      "Root Mean Sqaured Error : 5960.206101525534\n",
      "Mean Absolute Error : 4189.328919392166\n",
      "R Squared Value : 0.7507459874931361\n",
      "Direct R Squared Value : 0.7507459874931361\n",
      "Adjusted R Squared Value : 0.748629679839776\n"
     ]
    }
   ],
   "source": [
    "# Model Evaluation for Training Data\n",
    "\n",
    "y_pred_train = Lin_model.predict(x_train)\n",
    "\n",
    "mse = mean_squared_error(y_train, y_pred_train)\n",
    "print(\"Mean Sqaured Error :\",mse)\n",
    "\n",
    "rmse = np.sqrt(mse)\n",
    "print(\"Root Mean Sqaured Error :\",rmse)\n",
    "\n",
    "mae = mean_absolute_error(y_train, y_pred_train)\n",
    "print(\"Mean Absolute Error :\",mae)\n",
    "\n",
    "r_squared_value = r2_score(y_train, y_pred_train)\n",
    "print(\"R Squared Value :\",r_squared_value)\n",
    "\n",
    "# Direct calculation\n",
    "r2 = Lin_model.score(x_train, y_train)\n",
    "print(\"Direct R Squared Value :\",r2)\n",
    "\n",
    "adj_r2  = 1 - (((1 - r_squared_value) * (x_train.shape[0] - 1)) / (x_train.shape[0] - x_train.shape[1] - 1))\n",
    "print(\"Adjusted R Squared Value :\",adj_r2)"
   ]
  },
  {
   "cell_type": "code",
   "execution_count": null,
   "id": "af7cd444",
   "metadata": {},
   "outputs": [],
   "source": []
  },
  {
   "cell_type": "code",
   "execution_count": 76,
   "id": "5c9a8902",
   "metadata": {},
   "outputs": [],
   "source": [
    "# R2Test = 0.7464426208244624\n",
    "# R2Train = 0.7507459874931361\n",
    "\n",
    "# variance = 0.7507459874931361 - 0.7464426208244624 \n",
    "# variance = 0.004303366668673703"
   ]
  },
  {
   "cell_type": "code",
   "execution_count": 77,
   "id": "d430d6b0",
   "metadata": {},
   "outputs": [],
   "source": [
    "# Model has underfitted"
   ]
  },
  {
   "cell_type": "code",
   "execution_count": 78,
   "id": "43bdfcf8",
   "metadata": {},
   "outputs": [],
   "source": [
    "import pickle\n",
    "\n",
    "with open(\"linear_medical.pkl\", \"wb\") as f:\n",
    "    pickle.dump(Lin_model, f)\n"
   ]
  },
  {
   "cell_type": "code",
   "execution_count": 79,
   "id": "811b83fe",
   "metadata": {},
   "outputs": [
    {
     "data": {
      "text/plain": [
       "Index(['age', 'sex', 'bmi', 'children', 'smoker', 'region_northeast',\n",
       "       'region_northwest', 'region_southeast', 'region_southwest'],\n",
       "      dtype='object')"
      ]
     },
     "execution_count": 79,
     "metadata": {},
     "output_type": "execute_result"
    }
   ],
   "source": [
    "x.columns"
   ]
  },
  {
   "cell_type": "code",
   "execution_count": 80,
   "id": "e0804f95",
   "metadata": {},
   "outputs": [
    {
     "data": {
      "text/plain": [
       "{'sex': {'male': 1, 'female': 0},\n",
       " 'smoker': {'yes': 1, 'no': 0},\n",
       " 'columns': ['age',\n",
       "  'sex',\n",
       "  'bmi',\n",
       "  'children',\n",
       "  'smoker',\n",
       "  'region_northeast',\n",
       "  'region_northwest',\n",
       "  'region_southeast',\n",
       "  'region_southwest']}"
      ]
     },
     "execution_count": 80,
     "metadata": {},
     "output_type": "execute_result"
    }
   ],
   "source": [
    "json_data = {\"sex\" : {\"male\": 1, \"female\": 0},\n",
    "             \"smoker\" : {\"yes\": 1 , \"no\" : 0},\n",
    "             \"columns\" : list(x.columns)}\n",
    "json_data"
   ]
  },
  {
   "cell_type": "code",
   "execution_count": 81,
   "id": "f8a2e7b3",
   "metadata": {},
   "outputs": [
    {
     "data": {
      "text/plain": [
       "6"
      ]
     },
     "execution_count": 81,
     "metadata": {},
     "output_type": "execute_result"
    }
   ],
   "source": [
    "age = 45\n",
    "sex = \"male\"\n",
    "bmi = 29\n",
    "children = 0.0\n",
    "smoker = \"no\"\n",
    "region = \"northwest\"\n",
    "\n",
    "region = \"region_\" + region\n",
    "region\n",
    "\n",
    "region_index = np.where(x.columns == region)[0][0]\n",
    "region_index"
   ]
  },
  {
   "cell_type": "code",
   "execution_count": 82,
   "id": "c93c190e",
   "metadata": {},
   "outputs": [
    {
     "data": {
      "text/plain": [
       "array([0., 0., 0., 0., 0., 0., 0., 0., 0.])"
      ]
     },
     "execution_count": 82,
     "metadata": {},
     "output_type": "execute_result"
    }
   ],
   "source": [
    "test_array = np.zeros(len(x.columns))\n",
    "test_array"
   ]
  },
  {
   "cell_type": "code",
   "execution_count": 83,
   "id": "8df9d5f2",
   "metadata": {},
   "outputs": [
    {
     "data": {
      "text/plain": [
       "array([45.        ,  1.        ,  5.38516481,  0.        ,  0.        ,\n",
       "        0.        ,  1.        ,  0.        ,  0.        ])"
      ]
     },
     "execution_count": 83,
     "metadata": {},
     "output_type": "execute_result"
    }
   ],
   "source": [
    "test_array[0] = age\n",
    "test_array[1] = json_data['sex'][sex]\n",
    "test_array[2] = np.sqrt(bmi)\n",
    "test_array[3] = children\n",
    "test_array[4] = json_data['smoker'][smoker]\n",
    "test_array[region_index] = 1\n",
    "\n",
    "test_array"
   ]
  },
  {
   "cell_type": "code",
   "execution_count": 84,
   "id": "2b04b390",
   "metadata": {},
   "outputs": [
    {
     "name": "stdout",
     "output_type": "stream",
     "text": [
      "Predicted Medical Insurance Charges is : 8784.94 /- Rs. Only\n"
     ]
    },
    {
     "name": "stderr",
     "output_type": "stream",
     "text": [
      "C:\\Users\\rohit\\anaconda3\\lib\\site-packages\\sklearn\\base.py:450: UserWarning: X does not have valid feature names, but LinearRegression was fitted with feature names\n",
      "  warnings.warn(\n"
     ]
    }
   ],
   "source": [
    "charges = round(Lin_model.predict([test_array])[0],2)\n",
    "print(\"Predicted Medical Insurance Charges is :\", charges, \"/- Rs. Only\")"
   ]
  },
  {
   "cell_type": "code",
   "execution_count": 87,
   "id": "9f0dcbf2",
   "metadata": {},
   "outputs": [],
   "source": [
    "import json"
   ]
  },
  {
   "cell_type": "code",
   "execution_count": 88,
   "id": "c6847740",
   "metadata": {},
   "outputs": [],
   "source": [
    "with open(\"Json_data.json\", \"w\") as f:\n",
    "    json.dump(json_data,f)"
   ]
  }
 ],
 "metadata": {
  "kernelspec": {
   "display_name": "Python 3 (ipykernel)",
   "language": "python",
   "name": "python3"
  },
  "language_info": {
   "codemirror_mode": {
    "name": "ipython",
    "version": 3
   },
   "file_extension": ".py",
   "mimetype": "text/x-python",
   "name": "python",
   "nbconvert_exporter": "python",
   "pygments_lexer": "ipython3",
   "version": "3.9.13"
  }
 },
 "nbformat": 4,
 "nbformat_minor": 5
}
